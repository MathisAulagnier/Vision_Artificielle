{
 "cells": [
  {
   "cell_type": "code",
   "execution_count": 1,
   "id": "43af83b9",
   "metadata": {
    "_cell_guid": "b1076dfc-b9ad-4769-8c92-a6c4dae69d19",
    "_uuid": "8f2839f25d086af736a60e9eeb907d3b93b6e0e5",
    "execution": {
     "iopub.execute_input": "2024-11-20T18:37:29.847930Z",
     "iopub.status.busy": "2024-11-20T18:37:29.847361Z",
     "iopub.status.idle": "2024-11-20T18:37:30.589814Z",
     "shell.execute_reply": "2024-11-20T18:37:30.588964Z"
    },
    "papermill": {
     "duration": 0.753085,
     "end_time": "2024-11-20T18:37:30.591855",
     "exception": false,
     "start_time": "2024-11-20T18:37:29.838770",
     "status": "completed"
    },
    "tags": []
   },
   "outputs": [],
   "source": [
    "# This Python 3 environment comes with many helpful analytics libraries installed\n",
    "# It is defined by the kaggle/python Docker image: https://github.com/kaggle/docker-python\n",
    "# For example, here's several helpful packages to load\n",
    "\n",
    "import numpy as np # linear algebra\n",
    "import pandas as pd # data processing, CSV file I/O (e.g. pd.read_csv)\n",
    "\n",
    "# Input data files are available in the read-only \"../input/\" directory\n",
    "# For example, running this (by clicking run or pressing Shift+Enter) will list all files under the input directory\n",
    "\n",
    "import os\n",
    "# for dirname, _, filenames in os.walk('/kaggle/input'):\n",
    "#     for filename in filenames:\n",
    "#         print(os.path.join(dirname, filename))\n",
    "\n",
    "# You can write up to 20GB to the current directory (/kaggle/working/) that gets preserved as output when you create a version using \"Save & Run All\" \n",
    "# You can also write temporary files to /kaggle/temp/, but they won't be saved outside of the current session"
   ]
  },
  {
   "cell_type": "code",
   "execution_count": 2,
   "id": "9579662f",
   "metadata": {
    "execution": {
     "iopub.execute_input": "2024-11-20T18:37:30.608251Z",
     "iopub.status.busy": "2024-11-20T18:37:30.607872Z",
     "iopub.status.idle": "2024-11-20T18:37:37.428097Z",
     "shell.execute_reply": "2024-11-20T18:37:37.427399Z"
    },
    "papermill": {
     "duration": 6.829928,
     "end_time": "2024-11-20T18:37:37.430141",
     "exception": false,
     "start_time": "2024-11-20T18:37:30.600213",
     "status": "completed"
    },
    "tags": []
   },
   "outputs": [],
   "source": [
    "import numpy as np\n",
    "import pandas as pd\n",
    "\n",
    "import os\n",
    "from datetime import datetime\n",
    "\n",
    "from tqdm import tqdm\n",
    "\n",
    "from sklearn.metrics import accuracy_score, balanced_accuracy_score, f1_score, cohen_kappa_score, \\\n",
    "    top_k_accuracy_score, confusion_matrix, classification_report\n",
    "\n",
    "import plotly.express as px\n",
    "import plotly.subplots as sp\n",
    "\n",
    "import torch\n",
    "import torch.nn as nn\n",
    "import torch.optim as optim\n",
    "import torchvision\n",
    "from torchvision import models\n",
    "from torch import flatten\n",
    "import torchvision.transforms as transforms\n",
    "from torch.utils.data import random_split"
   ]
  },
  {
   "cell_type": "markdown",
   "id": "850f0b25",
   "metadata": {
    "papermill": {
     "duration": 0.006622,
     "end_time": "2024-11-20T18:37:37.443812",
     "exception": false,
     "start_time": "2024-11-20T18:37:37.437190",
     "status": "completed"
    },
    "tags": []
   },
   "source": [
    "# Other_tools"
   ]
  },
  {
   "cell_type": "code",
   "execution_count": 3,
   "id": "a29812e5",
   "metadata": {
    "execution": {
     "iopub.execute_input": "2024-11-20T18:37:37.458397Z",
     "iopub.status.busy": "2024-11-20T18:37:37.457981Z",
     "iopub.status.idle": "2024-11-20T18:37:37.469568Z",
     "shell.execute_reply": "2024-11-20T18:37:37.468888Z"
    },
    "papermill": {
     "duration": 0.020783,
     "end_time": "2024-11-20T18:37:37.471187",
     "exception": false,
     "start_time": "2024-11-20T18:37:37.450404",
     "status": "completed"
    },
    "tags": []
   },
   "outputs": [],
   "source": [
    "def get_model_information(model):\n",
    "\n",
    "    # Get and print information about the parameter number\n",
    "    print()\n",
    "    print(\"Model Summary\")\n",
    "    #txt_file.write(\"Model Summary\\n\")\n",
    "\n",
    "    # Get all parameters of the model layer by layer (trainable or not)\n",
    "    model_parameters = [layer for layer in model.parameters()]\n",
    "    # Get the name of each layer\n",
    "    layer_name = [child for child in model.children()]\n",
    "\n",
    "    # Define the column name of the DataFrame\n",
    "    column_name = [\"Layer Name\", \"Number of Trainable Parameters\", \"Number of (non trainable) Parameters\"]\n",
    "    # Instantiate the table information with a DataFrame\n",
    "    table_information = pd.DataFrame(columns=column_name)\n",
    "\n",
    "    # Count the character number for each string element in the list \"layer_name\"\n",
    "    character_counts = [len(str(string_element)) for string_element in layer_name]\n",
    "    # Get the maximum character number\n",
    "    max_character_number = max(character_counts)\n",
    "\n",
    "    print(\"=\" * (max_character_number + 2 + 30 + 2 + 36))\n",
    "    #txt_file.write(\"=\" * (max_character_number + 2 + 30 + 2 + 36))\n",
    "    #txt_file.write(\"\\n\")\n",
    "\n",
    "    # Initialize variables\n",
    "    j = 0\n",
    "    total_trainable_params = 0\n",
    "    total_params = 0\n",
    "\n",
    "    # print(\"\\t\" * 10)\n",
    "    # For each layer\n",
    "    for i in layer_name:\n",
    "\n",
    "        # Initialize an empty list\n",
    "        tmp_list = []\n",
    "\n",
    "        # Set an exception if \"i.biais\" does not exist (there is no possible biais in the defined layer)\n",
    "        try:\n",
    "\n",
    "            # Get \"i.biais\" if it exists\n",
    "            bias = (i.bias is not None)\n",
    "\n",
    "            # If the defined biais in the layer is set to True\n",
    "            if bias is True:\n",
    "\n",
    "                # and if the parameters of the current layer require gradient (if trainable)\n",
    "                if model_parameters[j].requires_grad is True:\n",
    "\n",
    "                    # Then get the number of trainable parameters\n",
    "                    trainable_params = model_parameters[j].numel() + model_parameters[j + 1].numel()\n",
    "                    # Print information in the console\n",
    "                    # print(str(i) + \"\\t\" * 3 + str(trainable_params))\n",
    "                    # Add information in \"tmp_list\"\n",
    "                    tmp_list.append(str(i))\n",
    "                    tmp_list.append(trainable_params)\n",
    "                    tmp_list.append(0)\n",
    "\n",
    "                    # Update the total number of trainable parameters\n",
    "                    total_trainable_params += trainable_params\n",
    "\n",
    "                else:\n",
    "\n",
    "                    # Then get the number of parameters (non trainable)\n",
    "                    params = model_parameters[j].numel() + model_parameters[j + 1].numel()\n",
    "                    # Print information in the console\n",
    "                    # print(str(i) + \"\\t\" * 3 + str(params))\n",
    "                    # Add information in \"tmp_list\"\n",
    "                    tmp_list.append(str(i))\n",
    "                    tmp_list.append(0)\n",
    "                    tmp_list.append(params)\n",
    "\n",
    "                    # Update the total number of parameters\n",
    "                    total_params += params\n",
    "\n",
    "                # Increment the counter\n",
    "                j = j + 2\n",
    "\n",
    "            else:  # if biais is false\n",
    "\n",
    "                # and if the parameters of the current layer require gradient (if trainable)\n",
    "                if model_parameters[j].requires_grad is True:\n",
    "\n",
    "                    # Then get the number of trainable parameters\n",
    "                    trainable_params = model_parameters[j].numel()\n",
    "                    # Print information in the console\n",
    "                    # print(str(i) + \"\\t\" * 3 + str(trainable_params))\n",
    "                    # Add information in \"tmp_list\"\n",
    "                    tmp_list.append(str(i))\n",
    "                    tmp_list.append(trainable_params)\n",
    "                    tmp_list.append(0)\n",
    "\n",
    "                    # Update the total number of trainable parameters\n",
    "                    total_trainable_params += trainable_params\n",
    "\n",
    "                else:\n",
    "\n",
    "                    # Then get the number of parameters (non trainable)\n",
    "                    params = model_parameters[j].numel()\n",
    "                    # Print information in the console\n",
    "                    # print(str(i) + \"\\t\" * 3 + str(params))\n",
    "                    # Add information in \"tmp_list\"\n",
    "                    tmp_list.append(str(i))\n",
    "                    tmp_list.append(0)\n",
    "                    tmp_list.append(params)\n",
    "\n",
    "                    # Update the total number of parameters\n",
    "                    total_params += params\n",
    "\n",
    "                # Increment the counter\n",
    "                j = j + 1\n",
    "\n",
    "        except:  # If there is no biais\n",
    "\n",
    "            # Just print the name of the layer\n",
    "            # print(str(i))\n",
    "            # Add information in \"tmp_list\"\n",
    "            tmp_list.append(str(i))\n",
    "            tmp_list.append(0)\n",
    "            tmp_list.append(0)\n",
    "\n",
    "        # Update the DataFrame\n",
    "        table_information.loc[len(table_information)] = tmp_list\n",
    "\n",
    "    # Print the table of information\n",
    "    print(table_information.to_string(index=False, justify=\"center\"))\n",
    "    #txt_file.write(table_information.to_string(index=False, justify=\"center\"))\n",
    "    #txt_file.write(\"\\n\")\n",
    "\n",
    "    # Print the total number of trainable and non trainable parameters\n",
    "    print(\"=\" * (max_character_number + 2 + 30 + 2 + 36))\n",
    "    # txt_file.write(\"=\" * (max_character_number + 2 + 30 + 2 + 36))\n",
    "    # txt_file.write(\"\\n\")\n",
    "    print(f\"Total\")\n",
    "    # txt_file.write(f\"Total\")\n",
    "    # txt_file.write(\"\\n\")\n",
    "    print(f\"    Trainable Parameters: {total_trainable_params}\")\n",
    "    # txt_file.write(f\"    Trainable Parameters: {total_trainable_params}\")\n",
    "    # txt_file.write(\"\\n\")\n",
    "    print(f\"    Non Trainable Parameters: {total_params}\")\n",
    "    # txt_file.write(f\"    Non Trainable Parameters: {total_params}\")\n",
    "    # txt_file.write(\"\\n\")\n",
    "    print(\"=\" * (max_character_number + 2 + 30 + 2 + 36))\n",
    "    # txt_file.write(\"=\" * (max_character_number + 2 + 30 + 2 + 36))\n",
    "    print()\n",
    "    # txt_file.write(\"\\n\")"
   ]
  },
  {
   "cell_type": "markdown",
   "id": "e5a86dab",
   "metadata": {
    "papermill": {
     "duration": 0.010214,
     "end_time": "2024-11-20T18:37:37.488192",
     "exception": false,
     "start_time": "2024-11-20T18:37:37.477978",
     "status": "completed"
    },
    "tags": []
   },
   "source": [
    "# Scores and graphs"
   ]
  },
  {
   "cell_type": "code",
   "execution_count": 4,
   "id": "9364eb18",
   "metadata": {
    "execution": {
     "iopub.execute_input": "2024-11-20T18:37:37.502309Z",
     "iopub.status.busy": "2024-11-20T18:37:37.502091Z",
     "iopub.status.idle": "2024-11-20T18:37:37.506087Z",
     "shell.execute_reply": "2024-11-20T18:37:37.505409Z"
    },
    "papermill": {
     "duration": 0.012858,
     "end_time": "2024-11-20T18:37:37.507660",
     "exception": false,
     "start_time": "2024-11-20T18:37:37.494802",
     "status": "completed"
    },
    "tags": []
   },
   "outputs": [],
   "source": [
    "# This function compute the accuracy for a mini-batch\n",
    "def compute_accuracy(labels, outputs):\n",
    "\n",
    "    # Transform the one-hot vectors (labels and outputs) into integers\n",
    "    labels = labels.argmax(dim=1)\n",
    "    outputs = outputs.argmax(dim=1)\n",
    "\n",
    "    # Compute the accuracy of the current mini-batch\n",
    "    corrects = (outputs == labels)\n",
    "    accuracy = corrects.sum().float() / float(labels.size(0))\n",
    "\n",
    "    return accuracy.item()"
   ]
  },
  {
   "cell_type": "code",
   "execution_count": 5,
   "id": "f3229232",
   "metadata": {
    "execution": {
     "iopub.execute_input": "2024-11-20T18:37:37.521815Z",
     "iopub.status.busy": "2024-11-20T18:37:37.521602Z",
     "iopub.status.idle": "2024-11-20T18:37:37.525245Z",
     "shell.execute_reply": "2024-11-20T18:37:37.524507Z"
    },
    "papermill": {
     "duration": 0.012552,
     "end_time": "2024-11-20T18:37:37.526809",
     "exception": false,
     "start_time": "2024-11-20T18:37:37.514257",
     "status": "completed"
    },
    "tags": []
   },
   "outputs": [],
   "source": [
    "# Transform a one hot vector into an integer (index of the maximum value)\n",
    "def vec_to_int(y_true, y_predicted):\n",
    "\n",
    "    # Transform the vector of values (one-hot and probabilities) into integers\n",
    "    y_true = np.argmax(y_true, axis=1)\n",
    "    y_predicted = np.argmax(y_predicted, axis=1)\n",
    "\n",
    "    return y_true, y_predicted"
   ]
  },
  {
   "cell_type": "code",
   "execution_count": 6,
   "id": "6319e8e9",
   "metadata": {
    "execution": {
     "iopub.execute_input": "2024-11-20T18:37:37.541408Z",
     "iopub.status.busy": "2024-11-20T18:37:37.540795Z",
     "iopub.status.idle": "2024-11-20T18:37:37.545990Z",
     "shell.execute_reply": "2024-11-20T18:37:37.545204Z"
    },
    "papermill": {
     "duration": 0.014046,
     "end_time": "2024-11-20T18:37:37.547530",
     "exception": false,
     "start_time": "2024-11-20T18:37:37.533484",
     "status": "completed"
    },
    "tags": []
   },
   "outputs": [],
   "source": [
    "def model_performances(y_true, y_predicted, loss, my_score_df):\n",
    "    # Initialize a list\n",
    "    scores = []\n",
    "\n",
    "    # Get the index of the maximum value in the vectors \"y_true\" and \"y_predicted\"\n",
    "    y_int_true, y_int_predicted = vec_to_int(y_true, y_predicted)\n",
    "\n",
    "    # Compute scores and add them to the list scores\n",
    "    scores.extend([loss])\n",
    "    scores.extend([accuracy_score(y_int_true, y_int_predicted)])\n",
    "    scores.extend([balanced_accuracy_score(y_int_true, y_int_predicted)])\n",
    "    scores.extend([f1_score(y_int_true, y_int_predicted, average=\"micro\")])\n",
    "    scores.extend([cohen_kappa_score(y_int_true, y_int_predicted)])\n",
    "    # scores.extend([top_k_accuracy_score(y_int_true, y_predicted, k=2)])\n",
    "    # scores.extend([top_k_accuracy_score(y_int_true, y_predicted, k=3)])\n",
    "        \n",
    "    # Ensure we add all expected columns, even if some metrics are not calculated\n",
    "    while len(scores) < len(my_score_df.columns):\n",
    "        scores.append(0.0)\n",
    "    \n",
    "    my_score_df.loc[len(my_score_df)] = scores\n",
    "\n",
    "    return my_score_df\n"
   ]
  },
  {
   "cell_type": "code",
   "execution_count": 7,
   "id": "af5bca6d",
   "metadata": {
    "execution": {
     "iopub.execute_input": "2024-11-20T18:37:37.561704Z",
     "iopub.status.busy": "2024-11-20T18:37:37.561467Z",
     "iopub.status.idle": "2024-11-20T18:37:37.567416Z",
     "shell.execute_reply": "2024-11-20T18:37:37.566642Z"
    },
    "papermill": {
     "duration": 0.014923,
     "end_time": "2024-11-20T18:37:37.569026",
     "exception": false,
     "start_time": "2024-11-20T18:37:37.554103",
     "status": "completed"
    },
    "tags": []
   },
   "outputs": [],
   "source": [
    "# This function is only to use on the test set\n",
    "def show_compute_model_performances(y_true, y_predicted, loss, my_score_df, classes):\n",
    "    # Initialize a list\n",
    "    scores = []\n",
    "\n",
    "    # Get the index of the maximum value in the vectors \"y_true\" and \"y_predicted\"\n",
    "    y_int_true, y_int_predicted = vec_to_int(y_true, y_predicted)\n",
    "\n",
    "    # Compute and store base metrics\n",
    "    scores.extend([loss])\n",
    "    \n",
    "    # Accuracy\n",
    "    accuracy = accuracy_score(y_int_true, y_int_predicted)\n",
    "    print(\"Accuracy: \" + str(accuracy))\n",
    "    scores.extend([accuracy])\n",
    "    \n",
    "    # Balanced accuracy\n",
    "    balanced_accuracy = balanced_accuracy_score(y_int_true, y_int_predicted)\n",
    "    print(\"Balanced Accuracy: \" + str(balanced_accuracy))\n",
    "    scores.extend([balanced_accuracy])\n",
    "    \n",
    "    # F1-score\n",
    "    f1 = f1_score(y_int_true, y_int_predicted, average=\"micro\")\n",
    "    print(\"F1-score: \" + str(f1))\n",
    "    scores.extend([f1])\n",
    "    \n",
    "    # Cohen Kappa\n",
    "    kappa = cohen_kappa_score(y_int_true, y_int_predicted)\n",
    "    print(\"Kappa: \" + str(kappa))\n",
    "    scores.extend([kappa])\n",
    "    \n",
    "    # Add zeros for top-k accuracies to match DataFrame columns\n",
    "    # scores.extend([0.0, 0.0])  # For Top 2 and Top 3 accuracy columns\n",
    "\n",
    "    # Confusion matrix and classification report\n",
    "    if y_true.shape[1] <= 10:\n",
    "        print(confusion_matrix(y_int_true, y_int_predicted))\n",
    "    print(classification_report(y_int_true, y_int_predicted, target_names=classes))\n",
    "\n",
    "    my_score_df.loc[len(my_score_df)] = scores\n",
    "\n",
    "    return my_score_df"
   ]
  },
  {
   "cell_type": "code",
   "execution_count": 8,
   "id": "4478a4b8",
   "metadata": {
    "execution": {
     "iopub.execute_input": "2024-11-20T18:37:37.582939Z",
     "iopub.status.busy": "2024-11-20T18:37:37.582675Z",
     "iopub.status.idle": "2024-11-20T18:37:37.587748Z",
     "shell.execute_reply": "2024-11-20T18:37:37.586978Z"
    },
    "papermill": {
     "duration": 0.013931,
     "end_time": "2024-11-20T18:37:37.589448",
     "exception": false,
     "start_time": "2024-11-20T18:37:37.575517",
     "status": "completed"
    },
    "tags": []
   },
   "outputs": [],
   "source": [
    "def create_score_df(training_epoch_scores, validation_epoch_scores, score_type):\n",
    "\n",
    "    # Create a DataFrame for plotting the train \"score_type\"\n",
    "    train_df = pd.DataFrame(columns=[\"Epochs\", \"Stage\", score_type])\n",
    "    # Create the vectors of values for the epochs and the stage of the training process\n",
    "    epochs = np.arange(1, training_epoch_scores.shape[0] + 1, 1)\n",
    "    stage = [\"Train\"] * training_epoch_scores.shape[0]\n",
    "    # Fill the DataFrame for the train \"score_type\"\n",
    "    train_df[\"Epochs\"] = epochs\n",
    "    train_df[\"Stage\"] = stage\n",
    "    train_df[score_type] = training_epoch_scores[score_type]\n",
    "\n",
    "    # Create a DataFrame for plotting the validation \"score_type\"\n",
    "    validation_df = pd.DataFrame(columns=[\"Epochs\", \"Stage\", score_type])\n",
    "    # Create the vector of values for the stage of the training process\n",
    "    stage = [\"Validation\"] * training_epoch_scores.shape[0]\n",
    "    # Fill the DataFrame for the validation \"score_type\"\n",
    "    validation_df[\"Epochs\"] = epochs\n",
    "    validation_df[\"Stage\"] = stage\n",
    "    validation_df[score_type] = validation_epoch_scores[score_type]\n",
    "\n",
    "    # Merge the two DataFrame\n",
    "    score_df = pd.concat([train_df, validation_df])\n",
    "\n",
    "    return score_df"
   ]
  },
  {
   "cell_type": "code",
   "execution_count": 9,
   "id": "d6fdec28",
   "metadata": {
    "execution": {
     "iopub.execute_input": "2024-11-20T18:37:37.603461Z",
     "iopub.status.busy": "2024-11-20T18:37:37.603228Z",
     "iopub.status.idle": "2024-11-20T18:37:37.608154Z",
     "shell.execute_reply": "2024-11-20T18:37:37.607463Z"
    },
    "papermill": {
     "duration": 0.013654,
     "end_time": "2024-11-20T18:37:37.609668",
     "exception": false,
     "start_time": "2024-11-20T18:37:37.596014",
     "status": "completed"
    },
    "tags": []
   },
   "outputs": [],
   "source": [
    "def plot_score_graphs(training_epoch_scores, validation_epoch_scores):\n",
    "    # List of scores to plot\n",
    "    scores_to_plot = [\"Loss\", \"Accuracy\", \"Balanced Accuracy\", \"F1-score\", \"Kappa\"]\n",
    "\n",
    "    # Create subplots: one row for each score type\n",
    "    fig = sp.make_subplots(rows=len(scores_to_plot), cols=1, subplot_titles=scores_to_plot)\n",
    "\n",
    "    # For each score to plot in the defined list\n",
    "    for i, score_type in enumerate(scores_to_plot, start=1):\n",
    "        # Create the DataFrame to be used with Plotly\n",
    "        the_df = create_score_df(training_epoch_scores, validation_epoch_scores, score_type)\n",
    "\n",
    "        # Plot the score evolution for the training and validation stages\n",
    "        for trace in px.line(the_df, x=\"Epochs\", y=score_type, color=\"Stage\").data:\n",
    "            fig.add_trace(trace, row=i, col=1)\n",
    "\n",
    "    # Update layout\n",
    "    fig.update_layout(height=300 * len(scores_to_plot), title_text=\"Training and Validation Scores\")\n",
    "\n",
    "    # Optionally, display the figure in a Jupyter notebook\n",
    "    fig.show()"
   ]
  },
  {
   "cell_type": "markdown",
   "id": "40d2a794",
   "metadata": {
    "papermill": {
     "duration": 0.006388,
     "end_time": "2024-11-20T18:37:37.622583",
     "exception": false,
     "start_time": "2024-11-20T18:37:37.616195",
     "status": "completed"
    },
    "tags": []
   },
   "source": [
    "# Train process"
   ]
  },
  {
   "cell_type": "code",
   "execution_count": 10,
   "id": "2e6863dd",
   "metadata": {
    "execution": {
     "iopub.execute_input": "2024-11-20T18:37:37.636763Z",
     "iopub.status.busy": "2024-11-20T18:37:37.636524Z",
     "iopub.status.idle": "2024-11-20T18:37:37.641053Z",
     "shell.execute_reply": "2024-11-20T18:37:37.640394Z"
    },
    "papermill": {
     "duration": 0.013316,
     "end_time": "2024-11-20T18:37:37.642532",
     "exception": false,
     "start_time": "2024-11-20T18:37:37.629216",
     "status": "completed"
    },
    "tags": []
   },
   "outputs": [],
   "source": [
    "# Compute the outputs of the model with specific inputs (and its corresponding labels to compute few performances)\n",
    "def compute_model_outputs(inputs, labels, device, model, all_labels, all_outputs, loss_function):\n",
    "\n",
    "    # Move the x data and y labels into the device chosen for the training\n",
    "    inputs, labels = inputs.to(device), labels.to(device)\n",
    "\n",
    "    # Compute the outputs of the network with the x data of the current mini-batch\n",
    "    outputs = model(inputs)\n",
    "    # Store the labels and outputs of the current mini-batch\n",
    "    all_labels.extend(np.array(labels.cpu()))\n",
    "    all_outputs.extend(np.array(outputs.detach().cpu()))\n",
    "\n",
    "    # Compute the loss for each instance in the mini-batch\n",
    "    loss = loss_function(outputs, labels)\n",
    "    # Compute the accuracy of the current mini-batch\n",
    "    accuracy = compute_accuracy(labels, outputs)\n",
    "\n",
    "    return all_labels, all_outputs, loss, accuracy"
   ]
  },
  {
   "cell_type": "code",
   "execution_count": 11,
   "id": "38c72e2e",
   "metadata": {
    "execution": {
     "iopub.execute_input": "2024-11-20T18:37:37.656542Z",
     "iopub.status.busy": "2024-11-20T18:37:37.656304Z",
     "iopub.status.idle": "2024-11-20T18:37:37.663587Z",
     "shell.execute_reply": "2024-11-20T18:37:37.662899Z"
    },
    "papermill": {
     "duration": 0.016065,
     "end_time": "2024-11-20T18:37:37.665132",
     "exception": false,
     "start_time": "2024-11-20T18:37:37.649067",
     "status": "completed"
    },
    "tags": []
   },
   "outputs": [],
   "source": [
    "# Train the neural network\n",
    "def train_model(epoch_number, train_loader, validation_loader, model, optimizer, loss_function, device, results_path,\n",
    "                my_folder_name):\n",
    "\n",
    "    # Initialize a DataFrame where to store metrics\n",
    "    training_epoch_scores = pd.DataFrame(columns=[\"Loss\", \"Accuracy\", \"Balanced Accuracy\", \"F1-score\", \"Kappa\"])\n",
    "\n",
    "\n",
    "    validation_epoch_scores = pd.DataFrame(columns=[\"Loss\", \"Accuracy\", \"Balanced Accuracy\", \"F1-score\", \"Kappa\"])\n",
    "\n",
    "    # Tell to your model that you are training it\n",
    "    model.train()\n",
    "\n",
    "    # For each epoch\n",
    "    for epoch in range(epoch_number):\n",
    "\n",
    "        # Initialize a mini-batch counter\n",
    "        mini_batch_counter = 0\n",
    "\n",
    "        # Initialize the loss and accuracy\n",
    "        running_loss = 0.0\n",
    "        running_accuracy = 0.0\n",
    "\n",
    "        # Initialize two variables to store the outputs of the neural network and the labels (for the whole epoch)\n",
    "        all_outputs = []\n",
    "        all_labels = []\n",
    "\n",
    "        # Assign the tqdm iterator to the variable \"progress_epoch\"\n",
    "        with tqdm(train_loader, unit=\" mini-batch\") as progress_epoch:\n",
    "\n",
    "            # For each mini-batch defined in the train loader through the variable \"progress_epoch\"\n",
    "            for inputs, labels in progress_epoch:\n",
    "\n",
    "                # Set the description of the progress bar\n",
    "                progress_epoch.set_description(f\"Epoch {epoch + 1}/{epoch_number}\")\n",
    "\n",
    "                # Compute the outputs of the model with specific inputs\n",
    "                all_labels, all_outputs, loss, accuracy = compute_model_outputs(inputs, labels, device, model,\n",
    "                                                                                all_labels, all_outputs, loss_function)\n",
    "\n",
    "                # Update the weights and biais of the network\n",
    "                optimizer.zero_grad()\n",
    "                loss.backward()\n",
    "                optimizer.step()\n",
    "\n",
    "                # Update the running loss\n",
    "                running_loss += loss.item()\n",
    "                # Update the running accuracy\n",
    "                running_accuracy += accuracy\n",
    "\n",
    "                # Display the updated loss and the accuracy\n",
    "                progress_epoch.set_postfix(train_loss=running_loss / (mini_batch_counter + 1),\n",
    "                                           train_accuracy=100. * (running_accuracy / (mini_batch_counter + 1)))\n",
    "\n",
    "                # Increment the mini-batch counter\n",
    "                mini_batch_counter += 1\n",
    "\n",
    "        # Compute the performances of the training on the current epoch and store the scores\n",
    "        training_epoch_scores = model_performances(np.array(all_labels), np.array(all_outputs),\n",
    "                                                   running_loss / mini_batch_counter, training_epoch_scores)\n",
    "\n",
    "        # Check performance of the model on the validation set after each training epoch\n",
    "        validation_epoch_scores = validate_model(validation_loader, model, loss_function, device,\n",
    "                                                 validation_epoch_scores)\n",
    "\n",
    "    # Plot metrics\n",
    "    plot_score_graphs(training_epoch_scores, validation_epoch_scores)\n",
    "\n",
    "    return model"
   ]
  },
  {
   "cell_type": "code",
   "execution_count": 12,
   "id": "0eee805e",
   "metadata": {
    "execution": {
     "iopub.execute_input": "2024-11-20T18:37:37.679719Z",
     "iopub.status.busy": "2024-11-20T18:37:37.679506Z",
     "iopub.status.idle": "2024-11-20T18:37:37.685098Z",
     "shell.execute_reply": "2024-11-20T18:37:37.684468Z"
    },
    "papermill": {
     "duration": 0.014594,
     "end_time": "2024-11-20T18:37:37.686625",
     "exception": false,
     "start_time": "2024-11-20T18:37:37.672031",
     "status": "completed"
    },
    "tags": []
   },
   "outputs": [],
   "source": [
    "def validate_model(validation_loader, model, loss_function, device, validation_epoch_scores):\n",
    "\n",
    "    # Tell to your model that your are evaluating it\n",
    "    model.eval()\n",
    "\n",
    "    # Initialize a mini-batch counter\n",
    "    mini_batch_counter = 0\n",
    "\n",
    "    # Initialize the loss and accuracy\n",
    "    running_loss = 0.0\n",
    "    running_accuracy = 0.0\n",
    "\n",
    "    # Initialize two variables to store the outputs of the neural network and the labels (for the whole validation set\n",
    "    # at the end of the current epoch)\n",
    "    all_outputs = []\n",
    "    all_labels = []\n",
    "\n",
    "    # Assign the tqdm iterator to the variable \"progress_validation\"\n",
    "    with tqdm(validation_loader, unit=\" mini-batch\") as progress_validation:\n",
    "\n",
    "        # For each mini-batch defined in the validation loader through the variable \"progress_validation\"\n",
    "        for inputs, labels in progress_validation:\n",
    "\n",
    "            # Set the description of the progress bar\n",
    "            progress_validation.set_description(\"               Validation step\")\n",
    "\n",
    "            # Compute the outputs of the model with specific inputs\n",
    "            all_labels, all_outputs, loss, accuracy = compute_model_outputs(inputs, labels, device, model, all_labels,\n",
    "                                                                            all_outputs, loss_function)\n",
    "\n",
    "            # Update the running loss\n",
    "            running_loss += loss.item()\n",
    "            # Update the running accuracy\n",
    "            running_accuracy += accuracy\n",
    "\n",
    "            # Display the updated loss and the accuracy\n",
    "            progress_validation.set_postfix(validation_loss=running_loss / (mini_batch_counter + 1),\n",
    "                                            validation_accuracy=100. * (running_accuracy / (mini_batch_counter + 1)))\n",
    "\n",
    "            # Increment the mini-batch counter\n",
    "            mini_batch_counter += 1\n",
    "\n",
    "    # Compute the performances on the validation set of the current epoch and store the scores\n",
    "    validation_epoch_scores = model_performances(np.array(all_labels), np.array(all_outputs),\n",
    "                                                 running_loss / mini_batch_counter, validation_epoch_scores)\n",
    "\n",
    "    return validation_epoch_scores"
   ]
  },
  {
   "cell_type": "markdown",
   "id": "592d612f",
   "metadata": {
    "papermill": {
     "duration": 0.006447,
     "end_time": "2024-11-20T18:37:37.699576",
     "exception": false,
     "start_time": "2024-11-20T18:37:37.693129",
     "status": "completed"
    },
    "tags": []
   },
   "source": [
    "# Test process"
   ]
  },
  {
   "cell_type": "code",
   "execution_count": 13,
   "id": "4d3951a0",
   "metadata": {
    "execution": {
     "iopub.execute_input": "2024-11-20T18:37:37.713998Z",
     "iopub.status.busy": "2024-11-20T18:37:37.713558Z",
     "iopub.status.idle": "2024-11-20T18:37:37.720024Z",
     "shell.execute_reply": "2024-11-20T18:37:37.719361Z"
    },
    "papermill": {
     "duration": 0.015466,
     "end_time": "2024-11-20T18:37:37.721556",
     "exception": false,
     "start_time": "2024-11-20T18:37:37.706090",
     "status": "completed"
    },
    "tags": []
   },
   "outputs": [],
   "source": [
    "# Test the trained model with the test set\n",
    "def test_model(test_loader, model, loss_function, device, classes):\n",
    "    print()\n",
    "    print()\n",
    "\n",
    "    # Initialize DataFrame with correct columns\n",
    "    test_scores = pd.DataFrame(columns=[\"Loss\", \"Accuracy\", \"Balanced Accuracy\", \"F1-score\", \"Kappa\"])\n",
    "\n",
    "    # Tell your model that you are evaluating it\n",
    "    model.eval()\n",
    "\n",
    "    # Initialize counters and storage\n",
    "    mini_batch_counter = 0\n",
    "    running_loss = 0.0\n",
    "    running_accuracy = 0.0\n",
    "    all_outputs = []\n",
    "    all_labels = []\n",
    "\n",
    "    with torch.no_grad():  # Add this to prevent gradient computation during testing\n",
    "        with tqdm(test_loader, unit=\" mini-batch\") as progress_testing:\n",
    "            for inputs, labels in progress_testing:\n",
    "                progress_testing.set_description(\"Testing the training model\")\n",
    "\n",
    "                # Compute outputs\n",
    "                all_labels, all_outputs, loss, accuracy = compute_model_outputs(inputs, labels, device, model,\n",
    "                                                                             all_labels, all_outputs, loss_function)\n",
    "\n",
    "                # Update running metrics\n",
    "                running_loss += loss.item()\n",
    "                running_accuracy += accuracy\n",
    "                \n",
    "                # Update progress bar\n",
    "                progress_testing.set_postfix(\n",
    "                    testing_loss=running_loss / (mini_batch_counter + 1),\n",
    "                    testing_accuracy=100. * (running_accuracy / (mini_batch_counter + 1))\n",
    "                )\n",
    "                \n",
    "                mini_batch_counter += 1\n",
    "\n",
    "    # Compute final performances\n",
    "    test_scores = show_compute_model_performances(np.array(all_labels), np.array(all_outputs),\n",
    "                                                running_loss / mini_batch_counter, test_scores, classes)\n",
    "\n",
    "    return test_scores"
   ]
  },
  {
   "cell_type": "markdown",
   "id": "bf2e185a",
   "metadata": {
    "papermill": {
     "duration": 0.00655,
     "end_time": "2024-11-20T18:37:37.734600",
     "exception": false,
     "start_time": "2024-11-20T18:37:37.728050",
     "status": "completed"
    },
    "tags": []
   },
   "source": [
    "# User parameters"
   ]
  },
  {
   "cell_type": "code",
   "execution_count": 14,
   "id": "81f068f8",
   "metadata": {
    "execution": {
     "iopub.execute_input": "2024-11-20T18:37:37.748858Z",
     "iopub.status.busy": "2024-11-20T18:37:37.748647Z",
     "iopub.status.idle": "2024-11-20T18:37:37.752577Z",
     "shell.execute_reply": "2024-11-20T18:37:37.751942Z"
    },
    "papermill": {
     "duration": 0.012734,
     "end_time": "2024-11-20T18:37:37.754093",
     "exception": false,
     "start_time": "2024-11-20T18:37:37.741359",
     "status": "completed"
    },
    "tags": []
   },
   "outputs": [],
   "source": [
    "# Define the path of the dataset to use\n",
    "dataset_path = (\"/kaggle/input/chest-xray-pneumonia/chest_xray/\")\n",
    "train_path = dataset_path + \"train/\"\n",
    "test_path = dataset_path + \"test/\"\n",
    "val_path = dataset_path + \"val/\"\n",
    "\n",
    "# Define the path where to save the results\n",
    "results_path = (\"/kaggle/working/results\")\n",
    "\n",
    "\n",
    "### For transfert learning\n",
    "# Define the number of epochs of the model training\n",
    "epoch_number_tl = 3\n",
    "\n",
    "# Define the size of the mini-batch\n",
    "batch_size = 32\n",
    "\n",
    "# Define the learning rate\n",
    "learning_rate = 0.001\n",
    "\n",
    "### For our CNN\n",
    "epoch_number_cnn = 15"
   ]
  },
  {
   "cell_type": "markdown",
   "id": "88e2d0bb",
   "metadata": {
    "papermill": {
     "duration": 0.006506,
     "end_time": "2024-11-20T18:37:37.767249",
     "exception": false,
     "start_time": "2024-11-20T18:37:37.760743",
     "status": "completed"
    },
    "tags": []
   },
   "source": [
    "### Create a folder and file to save results"
   ]
  },
  {
   "cell_type": "code",
   "execution_count": 15,
   "id": "99b51b3c",
   "metadata": {
    "execution": {
     "iopub.execute_input": "2024-11-20T18:37:37.781179Z",
     "iopub.status.busy": "2024-11-20T18:37:37.780969Z",
     "iopub.status.idle": "2024-11-20T18:37:37.785758Z",
     "shell.execute_reply": "2024-11-20T18:37:37.785091Z"
    },
    "papermill": {
     "duration": 0.013717,
     "end_time": "2024-11-20T18:37:37.787466",
     "exception": false,
     "start_time": "2024-11-20T18:37:37.773749",
     "status": "completed"
    },
    "tags": []
   },
   "outputs": [
    {
     "name": "stdout",
     "output_type": "stream",
     "text": [
      "Result folder created\n"
     ]
    }
   ],
   "source": [
    "# Get the date and time\n",
    "now = datetime.now()\n",
    "# Create the folder name\n",
    "my_folder_name = now.strftime(\"%Y-%m-%d_%H\" + \"h\" + \"%M\" + \"min\" + \"%S\" + \"sec\")\n",
    "# Create the folder\n",
    "os.makedirs(os.path.join(results_path, my_folder_name))\n",
    "print(\"Result folder created\")\n",
    "# Print a message in the consoleprint(\"\\nResult folder created\")\n",
    "\n",
    "# Create and open a txt file to store information about the model performances\n",
    "# txt_file = open(os.path.join(results_path, my_folder_name, \"Results.txt\"), \"a\")\n",
    "\n",
    "# Write information about the architecture used for classification\n",
    "# txt_file.write(\"Model Information\\n\")\n",
    "# txt_file.write(\"    - Model: ResNet50\\n\")\n",
    "# txt_file.write(\"    - Task: Classification\\n\")\n",
    "# txt_file.write(\"    - Type of training: Transfer learning\\n\\n\")\n",
    "# Write information about hyperparameters\n",
    "# txt_file.write(\"Hyperparameters\\n\")\n",
    "# txt_file.write(\"    - Epoch number: \" + str(epoch_number) + \"\\n\")\n",
    "# txt_file.write(\"    - Batch size: \" + str(batch_size) + \"\\n\")\n",
    "# txt_file.write(\"    - Learning rate: \" + str(learning_rate) + \"\\n\\n\")"
   ]
  },
  {
   "cell_type": "markdown",
   "id": "ed7dd9fb",
   "metadata": {
    "papermill": {
     "duration": 0.006347,
     "end_time": "2024-11-20T18:37:37.800397",
     "exception": false,
     "start_time": "2024-11-20T18:37:37.794050",
     "status": "completed"
    },
    "tags": []
   },
   "source": [
    "# Check GPU availability and create the network model"
   ]
  },
  {
   "cell_type": "code",
   "execution_count": 16,
   "id": "5d6fd5ff",
   "metadata": {
    "execution": {
     "iopub.execute_input": "2024-11-20T18:37:37.815789Z",
     "iopub.status.busy": "2024-11-20T18:37:37.815551Z",
     "iopub.status.idle": "2024-11-20T18:37:37.906561Z",
     "shell.execute_reply": "2024-11-20T18:37:37.905733Z"
    },
    "papermill": {
     "duration": 0.099931,
     "end_time": "2024-11-20T18:37:37.908173",
     "exception": false,
     "start_time": "2024-11-20T18:37:37.808242",
     "status": "completed"
    },
    "tags": []
   },
   "outputs": [
    {
     "name": "stdout",
     "output_type": "stream",
     "text": [
      "cuda:0\n"
     ]
    }
   ],
   "source": [
    "# Check if GPU is available and set the device\n",
    "device = torch.device(\"cuda:0\" if torch.cuda.is_available() else \"cpu\")\n",
    "print(device)"
   ]
  },
  {
   "cell_type": "markdown",
   "id": "5a286df4",
   "metadata": {
    "papermill": {
     "duration": 0.006541,
     "end_time": "2024-11-20T18:37:37.921579",
     "exception": false,
     "start_time": "2024-11-20T18:37:37.915038",
     "status": "completed"
    },
    "tags": []
   },
   "source": [
    "# Transfert Learning"
   ]
  },
  {
   "cell_type": "markdown",
   "id": "2b76ca50",
   "metadata": {
    "papermill": {
     "duration": 0.006409,
     "end_time": "2024-11-20T18:37:37.934580",
     "exception": false,
     "start_time": "2024-11-20T18:37:37.928171",
     "status": "completed"
    },
    "tags": []
   },
   "source": [
    "## Load the dataset for transfert learning"
   ]
  },
  {
   "cell_type": "code",
   "execution_count": 17,
   "id": "d05aacd1",
   "metadata": {
    "execution": {
     "iopub.execute_input": "2024-11-20T18:37:37.948733Z",
     "iopub.status.busy": "2024-11-20T18:37:37.948472Z",
     "iopub.status.idle": "2024-11-20T18:37:37.953559Z",
     "shell.execute_reply": "2024-11-20T18:37:37.952864Z"
    },
    "papermill": {
     "duration": 0.013974,
     "end_time": "2024-11-20T18:37:37.955148",
     "exception": false,
     "start_time": "2024-11-20T18:37:37.941174",
     "status": "completed"
    },
    "tags": []
   },
   "outputs": [],
   "source": [
    "\"\"\" Data Transformation \"\"\"\n",
    "# Define the transformations to apply to x data (follow ones applied for ResNet50_Weights.IMAGENET1K_V2)\n",
    "transform = transforms.Compose([\n",
    "    transforms.Grayscale(num_output_channels=3),  # Convert grayscale to RGB by duplicating the single channel\n",
    "    transforms.Resize((232, 232)),\n",
    "    transforms.RandomResizedCrop(224),\n",
    "    transforms.ToTensor(),\n",
    "    transforms.Normalize([0.485, 0.456, 0.406], [0.229, 0.224, 0.225])])\n",
    "\n",
    "# Define the transformations to apply to y labels\n",
    "target_transform = transforms.Compose(\n",
    "    [transforms.Lambda(\n",
    "        lambda y: torch.zeros(2, dtype=torch.float).scatter_(\n",
    "            0, \n",
    "            torch.tensor(y),\n",
    "            value=1)\n",
    "        )\n",
    "    ]\n",
    ")"
   ]
  },
  {
   "cell_type": "code",
   "execution_count": 18,
   "id": "50de8b9c",
   "metadata": {
    "execution": {
     "iopub.execute_input": "2024-11-20T18:37:37.969541Z",
     "iopub.status.busy": "2024-11-20T18:37:37.969321Z",
     "iopub.status.idle": "2024-11-20T18:37:45.469301Z",
     "shell.execute_reply": "2024-11-20T18:37:45.468370Z"
    },
    "papermill": {
     "duration": 7.509053,
     "end_time": "2024-11-20T18:37:45.471041",
     "exception": false,
     "start_time": "2024-11-20T18:37:37.961988",
     "status": "completed"
    },
    "tags": []
   },
   "outputs": [
    {
     "data": {
      "text/plain": [
       "(['NORMAL', 'PNEUMONIA'], 2)"
      ]
     },
     "execution_count": 18,
     "metadata": {},
     "output_type": "execute_result"
    }
   ],
   "source": [
    "\"\"\"\" Train, validation and test sets \"\"\"\n",
    "# Load the dataset by applying transformations\n",
    "train_set = torchvision.datasets.ImageFolder(train_path , transform=transform, target_transform=target_transform)\n",
    "test_set = torchvision.datasets.ImageFolder(test_path, transform=transform, target_transform=target_transform)\n",
    "# val_set = torchvision.datasets.ImageFolder(val_path, transform=transform, target_transform=target_transform)\n",
    "\n",
    "# Define the split ratio and split the dataset\n",
    "train_ratio = 0.8  # 80% for training, 20% for validation\n",
    "train_size = int(train_ratio * len(train_set))\n",
    "val_size = len(train_set) - train_size\n",
    "\n",
    "train_subset, val_subset = random_split(train_set, [train_size, val_size])\n",
    "\n",
    "\n",
    "# Create the Python iterator for the datasets\n",
    "train_loader = torch.utils.data.DataLoader(train_subset, batch_size=batch_size, shuffle=True)\n",
    "test_loader = torch.utils.data.DataLoader(test_set, batch_size=batch_size, shuffle=False)\n",
    "val_loader = torch.utils.data.DataLoader(val_subset, batch_size=batch_size, shuffle=True)\n",
    "\n",
    "\"\"\"ATTENTION\"\"\"\n",
    "\"\"\"Ici l'algorithme fera de la classification binaire PNEUMONIA / NORMAL\"\"\"\n",
    "\"\"\"Pour changer cela et spécifier VIRUS ou BACTERIA il faudra les différencier dans les dossiers.\"\"\"\n",
    "\n",
    "# Load the first batch of images from the train set\n",
    "images, labels = next(iter(train_loader))\n",
    "\n",
    "# Get the shape of the images\n",
    "image_shape = list(images.data.shape)\n",
    "# Get automatically the number of channels of images\n",
    "image_channel = image_shape[1]\n",
    "\n",
    "# Get the number of classes from the dataset\n",
    "classes = test_set.classes\n",
    "class_number = len(list(classes))\n",
    "\n",
    "classes, class_number"
   ]
  },
  {
   "cell_type": "markdown",
   "id": "4d6496c8",
   "metadata": {
    "papermill": {
     "duration": 0.00685,
     "end_time": "2024-11-20T18:37:45.485152",
     "exception": false,
     "start_time": "2024-11-20T18:37:45.478302",
     "status": "completed"
    },
    "tags": []
   },
   "source": [
    "## Load the ResNet on  GPU"
   ]
  },
  {
   "cell_type": "code",
   "execution_count": 19,
   "id": "8c78939c",
   "metadata": {
    "execution": {
     "iopub.execute_input": "2024-11-20T18:37:45.500574Z",
     "iopub.status.busy": "2024-11-20T18:37:45.499818Z",
     "iopub.status.idle": "2024-11-20T18:37:46.866880Z",
     "shell.execute_reply": "2024-11-20T18:37:46.866051Z"
    },
    "papermill": {
     "duration": 1.378205,
     "end_time": "2024-11-20T18:37:46.870262",
     "exception": false,
     "start_time": "2024-11-20T18:37:45.492057",
     "status": "completed"
    },
    "tags": []
   },
   "outputs": [
    {
     "name": "stderr",
     "output_type": "stream",
     "text": [
      "Downloading: \"https://download.pytorch.org/models/resnet50-11ad3fa6.pth\" to /root/.cache/torch/hub/checkpoints/resnet50-11ad3fa6.pth\n",
      "100%|██████████| 97.8M/97.8M [00:00<00:00, 189MB/s]\n"
     ]
    },
    {
     "name": "stdout",
     "output_type": "stream",
     "text": [
      "\n",
      "Model Summary\n",
      "=======================================================================================================================================================================================================================================================================================================================================================================================================================================================================================================================================================================================================================================================================================================================================================================================================================================================================================================================================================================================================================================================================================================================================================================================================================================================================================================================================================================================================================================================================================================================================================================================================================================================================================================================================================================================================================================================================================================================================================================================================================================================================================================================================================================================================================================================================================================================================================================================================================================================================================================================================================================================================================================================================================================================================================================================================================================================================================================================================================================================================================================================================================================================================================================================================================================================================================================================================================================================================================================================================================================================================================================================================================================================================================================================================================================================================================================================================================================================\n",
      "                                                                                                                                                                                                                                                                                                                                                                                                                                                                                                                                                                                                                                                                                                                                                                                                                                                                                                                                                                                                                                                                                                                                                                                                                                                                                                                                                                                                                                                                                                                                                                                                                                                                                                                                                                                                                                                                                                                                                 Layer Name                                                                                                                                                                                                                                                                                                                                                                                                                                                                                                                                                                                                                                                                                                                                                                                                                                                                                                                                                                                                                                                                                                                                                                                                                                                                                                                                                                                                                                                                                                                                                                                                                                                                                                                                                                                                                                                                                                                                                   Number of Trainable Parameters  Number of (non trainable) Parameters\n",
      "                                                                                                                                                                                                                                                                                                                                                                                                                                                                                                                                                                                                                                                                                                                                                                                                                                                                                                                                                                                                                                                                                                                                                                                                                                                                                                                                                                                                                                                                                                                                                                                                                                                                                                                                                                                                                                                                                                                                                                                                                                                                                                                                                                                                                                                                                                                                                                                                                                                                                                                                                                                                                                                                                                                                                                                                                                                                                                                                                                                                                                                                                                                                                                                                                                                                                                                                                                                                                                                                                                                                                                                                                                                                                                                                                                                                                                Conv2d(3, 64, kernel_size=(7, 7), stride=(2, 2), padding=(3, 3), bias=False)               9408                                0                  \n",
      "                                                                                                                                                                                                                                                                                                                                                                                                                                                                                                                                                                                                                                                                                                                                                                                                                                                                                                                                                                                                                                                                                                                                                                                                                                                                                                                                                                                                                                                                                                                                                                                                                                                                                                                                                                                                                                                                                                                                                                                                                                                                                                                                                                                                                                                                                                                                                                                                                                                                                                                                                                                                                                                                                                                                                                                                                                                                                                                                                                                                                                                                                                                                                                                                                                                                                                                                                                                                                                                                                                                                                                                                                                                                                                                                                                                                                             BatchNorm2d(64, eps=1e-05, momentum=0.1, affine=True, track_running_stats=True)                128                                0                  \n",
      "                                                                                                                                                                                                                                                                                                                                                                                                                                                                                                                                                                                                                                                                                                                                                                                                                                                                                                                                                                                                                                                                                                                                                                                                                                                                                                                                                                                                                                                                                                                                                                                                                                                                                                                                                                                                                                                                                                                                                                                                                                                                                                                                                                                                                                                                                                                                                                                                                                                                                                                                                                                                                                                                                                                                                                                                                                                                                                                                                                                                                                                                                                                                                                                                                                                                                                                                                                                                                                                                                                                                                                                                                                                                                                                                                                                                                                                                                          ReLU(inplace=True)                  0                                0                  \n",
      "                                                                                                                                                                                                                                                                                                                                                                                                                                                                                                                                                                                                                                                                                                                                                                                                                                                                                                                                                                                                                                                                                                                                                                                                                                                                                                                                                                                                                                                                                                                                                                                                                                                                                                                                                                                                                                                                                                                                                                                                                                                                                                                                                                                                                                                                                                                                                                                                                                                                                                                                                                                                                                                                                                                                                                                                                                                                                                                                                                                                                                                                                                                                                                                                                                                                                                                                                                                                                                                                                                                                                                                                                                                                                                                                                                                                                                  MaxPool2d(kernel_size=3, stride=2, padding=1, dilation=1, ceil_mode=False)                  0                                0                  \n",
      "                                                                                                                                                                                                                                                                                                                                                                                                                                                                                                                                                                                                                                                                                                                                                                                                                                                                                                                                                                                                                                                                                                                                                                                                                                                                                                                                                                                                                                                                                                                                                                                                                                                                                                                                                                                                                                                                     Sequential(\\n  (0): Bottleneck(\\n    (conv1): Conv2d(64, 64, kernel_size=(1, 1), stride=(1, 1), bias=False)\\n    (bn1): BatchNorm2d(64, eps=1e-05, momentum=0.1, affine=True, track_running_stats=True)\\n    (conv2): Conv2d(64, 64, kernel_size=(3, 3), stride=(1, 1), padding=(1, 1), bias=False)\\n    (bn2): BatchNorm2d(64, eps=1e-05, momentum=0.1, affine=True, track_running_stats=True)\\n    (conv3): Conv2d(64, 256, kernel_size=(1, 1), stride=(1, 1), bias=False)\\n    (bn3): BatchNorm2d(256, eps=1e-05, momentum=0.1, affine=True, track_running_stats=True)\\n    (relu): ReLU(inplace=True)\\n    (downsample): Sequential(\\n      (0): Conv2d(64, 256, kernel_size=(1, 1), stride=(1, 1), bias=False)\\n      (1): BatchNorm2d(256, eps=1e-05, momentum=0.1, affine=True, track_running_stats=True)\\n    )\\n  )\\n  (1): Bottleneck(\\n    (conv1): Conv2d(256, 64, kernel_size=(1, 1), stride=(1, 1), bias=False)\\n    (bn1): BatchNorm2d(64, eps=1e-05, momentum=0.1, affine=True, track_running_stats=True)\\n    (conv2): Conv2d(64, 64, kernel_size=(3, 3), stride=(1, 1), padding=(1, 1), bias=False)\\n    (bn2): BatchNorm2d(64, eps=1e-05, momentum=0.1, affine=True, track_running_stats=True)\\n    (conv3): Conv2d(64, 256, kernel_size=(1, 1), stride=(1, 1), bias=False)\\n    (bn3): BatchNorm2d(256, eps=1e-05, momentum=0.1, affine=True, track_running_stats=True)\\n    (relu): ReLU(inplace=True)\\n  )\\n  (2): Bottleneck(\\n    (conv1): Conv2d(256, 64, kernel_size=(1, 1), stride=(1, 1), bias=False)\\n    (bn1): BatchNorm2d(64, eps=1e-05, momentum=0.1, affine=True, track_running_stats=True)\\n    (conv2): Conv2d(64, 64, kernel_size=(3, 3), stride=(1, 1), padding=(1, 1), bias=False)\\n    (bn2): BatchNorm2d(64, eps=1e-05, momentum=0.1, affine=True, track_running_stats=True)\\n    (conv3): Conv2d(64, 256, kernel_size=(1, 1), stride=(1, 1), bias=False)\\n    (bn3): BatchNorm2d(256, eps=1e-05, momentum=0.1, affine=True, track_running_stats=True)\\n    (relu): ReLU(inplace=True)\\n  )\\n)                  0                                0                  \n",
      "                                                                                                                                                                                                                                                                                                                                                                                                                                                                                                                                                                                                                                                                                                                                                                                                                                                                                                                                                                                                                                                                                                                                                                                                                                       Sequential(\\n  (0): Bottleneck(\\n    (conv1): Conv2d(256, 128, kernel_size=(1, 1), stride=(1, 1), bias=False)\\n    (bn1): BatchNorm2d(128, eps=1e-05, momentum=0.1, affine=True, track_running_stats=True)\\n    (conv2): Conv2d(128, 128, kernel_size=(3, 3), stride=(2, 2), padding=(1, 1), bias=False)\\n    (bn2): BatchNorm2d(128, eps=1e-05, momentum=0.1, affine=True, track_running_stats=True)\\n    (conv3): Conv2d(128, 512, kernel_size=(1, 1), stride=(1, 1), bias=False)\\n    (bn3): BatchNorm2d(512, eps=1e-05, momentum=0.1, affine=True, track_running_stats=True)\\n    (relu): ReLU(inplace=True)\\n    (downsample): Sequential(\\n      (0): Conv2d(256, 512, kernel_size=(1, 1), stride=(2, 2), bias=False)\\n      (1): BatchNorm2d(512, eps=1e-05, momentum=0.1, affine=True, track_running_stats=True)\\n    )\\n  )\\n  (1): Bottleneck(\\n    (conv1): Conv2d(512, 128, kernel_size=(1, 1), stride=(1, 1), bias=False)\\n    (bn1): BatchNorm2d(128, eps=1e-05, momentum=0.1, affine=True, track_running_stats=True)\\n    (conv2): Conv2d(128, 128, kernel_size=(3, 3), stride=(1, 1), padding=(1, 1), bias=False)\\n    (bn2): BatchNorm2d(128, eps=1e-05, momentum=0.1, affine=True, track_running_stats=True)\\n    (conv3): Conv2d(128, 512, kernel_size=(1, 1), stride=(1, 1), bias=False)\\n    (bn3): BatchNorm2d(512, eps=1e-05, momentum=0.1, affine=True, track_running_stats=True)\\n    (relu): ReLU(inplace=True)\\n  )\\n  (2): Bottleneck(\\n    (conv1): Conv2d(512, 128, kernel_size=(1, 1), stride=(1, 1), bias=False)\\n    (bn1): BatchNorm2d(128, eps=1e-05, momentum=0.1, affine=True, track_running_stats=True)\\n    (conv2): Conv2d(128, 128, kernel_size=(3, 3), stride=(1, 1), padding=(1, 1), bias=False)\\n    (bn2): BatchNorm2d(128, eps=1e-05, momentum=0.1, affine=True, track_running_stats=True)\\n    (conv3): Conv2d(128, 512, kernel_size=(1, 1), stride=(1, 1), bias=False)\\n    (bn3): BatchNorm2d(512, eps=1e-05, momentum=0.1, affine=True, track_running_stats=True)\\n    (relu): ReLU(inplace=True)\\n  )\\n  (3): Bottleneck(\\n    (conv1): Conv2d(512, 128, kernel_size=(1, 1), stride=(1, 1), bias=False)\\n    (bn1): BatchNorm2d(128, eps=1e-05, momentum=0.1, affine=True, track_running_stats=True)\\n    (conv2): Conv2d(128, 128, kernel_size=(3, 3), stride=(1, 1), padding=(1, 1), bias=False)\\n    (bn2): BatchNorm2d(128, eps=1e-05, momentum=0.1, affine=True, track_running_stats=True)\\n    (conv3): Conv2d(128, 512, kernel_size=(1, 1), stride=(1, 1), bias=False)\\n    (bn3): BatchNorm2d(512, eps=1e-05, momentum=0.1, affine=True, track_running_stats=True)\\n    (relu): ReLU(inplace=True)\\n  )\\n)                  0                                0                  \n",
      "Sequential(\\n  (0): Bottleneck(\\n    (conv1): Conv2d(512, 256, kernel_size=(1, 1), stride=(1, 1), bias=False)\\n    (bn1): BatchNorm2d(256, eps=1e-05, momentum=0.1, affine=True, track_running_stats=True)\\n    (conv2): Conv2d(256, 256, kernel_size=(3, 3), stride=(2, 2), padding=(1, 1), bias=False)\\n    (bn2): BatchNorm2d(256, eps=1e-05, momentum=0.1, affine=True, track_running_stats=True)\\n    (conv3): Conv2d(256, 1024, kernel_size=(1, 1), stride=(1, 1), bias=False)\\n    (bn3): BatchNorm2d(1024, eps=1e-05, momentum=0.1, affine=True, track_running_stats=True)\\n    (relu): ReLU(inplace=True)\\n    (downsample): Sequential(\\n      (0): Conv2d(512, 1024, kernel_size=(1, 1), stride=(2, 2), bias=False)\\n      (1): BatchNorm2d(1024, eps=1e-05, momentum=0.1, affine=True, track_running_stats=True)\\n    )\\n  )\\n  (1): Bottleneck(\\n    (conv1): Conv2d(1024, 256, kernel_size=(1, 1), stride=(1, 1), bias=False)\\n    (bn1): BatchNorm2d(256, eps=1e-05, momentum=0.1, affine=True, track_running_stats=True)\\n    (conv2): Conv2d(256, 256, kernel_size=(3, 3), stride=(1, 1), padding=(1, 1), bias=False)\\n    (bn2): BatchNorm2d(256, eps=1e-05, momentum=0.1, affine=True, track_running_stats=True)\\n    (conv3): Conv2d(256, 1024, kernel_size=(1, 1), stride=(1, 1), bias=False)\\n    (bn3): BatchNorm2d(1024, eps=1e-05, momentum=0.1, affine=True, track_running_stats=True)\\n    (relu): ReLU(inplace=True)\\n  )\\n  (2): Bottleneck(\\n    (conv1): Conv2d(1024, 256, kernel_size=(1, 1), stride=(1, 1), bias=False)\\n    (bn1): BatchNorm2d(256, eps=1e-05, momentum=0.1, affine=True, track_running_stats=True)\\n    (conv2): Conv2d(256, 256, kernel_size=(3, 3), stride=(1, 1), padding=(1, 1), bias=False)\\n    (bn2): BatchNorm2d(256, eps=1e-05, momentum=0.1, affine=True, track_running_stats=True)\\n    (conv3): Conv2d(256, 1024, kernel_size=(1, 1), stride=(1, 1), bias=False)\\n    (bn3): BatchNorm2d(1024, eps=1e-05, momentum=0.1, affine=True, track_running_stats=True)\\n    (relu): ReLU(inplace=True)\\n  )\\n  (3): Bottleneck(\\n    (conv1): Conv2d(1024, 256, kernel_size=(1, 1), stride=(1, 1), bias=False)\\n    (bn1): BatchNorm2d(256, eps=1e-05, momentum=0.1, affine=True, track_running_stats=True)\\n    (conv2): Conv2d(256, 256, kernel_size=(3, 3), stride=(1, 1), padding=(1, 1), bias=False)\\n    (bn2): BatchNorm2d(256, eps=1e-05, momentum=0.1, affine=True, track_running_stats=True)\\n    (conv3): Conv2d(256, 1024, kernel_size=(1, 1), stride=(1, 1), bias=False)\\n    (bn3): BatchNorm2d(1024, eps=1e-05, momentum=0.1, affine=True, track_running_stats=True)\\n    (relu): ReLU(inplace=True)\\n  )\\n  (4): Bottleneck(\\n    (conv1): Conv2d(1024, 256, kernel_size=(1, 1), stride=(1, 1), bias=False)\\n    (bn1): BatchNorm2d(256, eps=1e-05, momentum=0.1, affine=True, track_running_stats=True)\\n    (conv2): Conv2d(256, 256, kernel_size=(3, 3), stride=(1, 1), padding=(1, 1), bias=False)\\n    (bn2): BatchNorm2d(256, eps=1e-05, momentum=0.1, affine=True, track_running_stats=True)\\n    (conv3): Conv2d(256, 1024, kernel_size=(1, 1), stride=(1, 1), bias=False)\\n    (bn3): BatchNorm2d(1024, eps=1e-05, momentum=0.1, affine=True, track_running_stats=True)\\n    (relu): ReLU(inplace=True)\\n  )\\n  (5): Bottleneck(\\n    (conv1): Conv2d(1024, 256, kernel_size=(1, 1), stride=(1, 1), bias=False)\\n    (bn1): BatchNorm2d(256, eps=1e-05, momentum=0.1, affine=True, track_running_stats=True)\\n    (conv2): Conv2d(256, 256, kernel_size=(3, 3), stride=(1, 1), padding=(1, 1), bias=False)\\n    (bn2): BatchNorm2d(256, eps=1e-05, momentum=0.1, affine=True, track_running_stats=True)\\n    (conv3): Conv2d(256, 1024, kernel_size=(1, 1), stride=(1, 1), bias=False)\\n    (bn3): BatchNorm2d(1024, eps=1e-05, momentum=0.1, affine=True, track_running_stats=True)\\n    (relu): ReLU(inplace=True)\\n  )\\n)                  0                                0                  \n",
      "                                                                                                                                                                                                                                                                                                                                                                                                                                                                                                                                                                                                                                                                                                                                                                                                                                                                                                                                                                                                                                                                                                                                                                                                                                                                                                                                                                                                                                                                                                                                                                                                                                                                                                                                                                                                                                     Sequential(\\n  (0): Bottleneck(\\n    (conv1): Conv2d(1024, 512, kernel_size=(1, 1), stride=(1, 1), bias=False)\\n    (bn1): BatchNorm2d(512, eps=1e-05, momentum=0.1, affine=True, track_running_stats=True)\\n    (conv2): Conv2d(512, 512, kernel_size=(3, 3), stride=(2, 2), padding=(1, 1), bias=False)\\n    (bn2): BatchNorm2d(512, eps=1e-05, momentum=0.1, affine=True, track_running_stats=True)\\n    (conv3): Conv2d(512, 2048, kernel_size=(1, 1), stride=(1, 1), bias=False)\\n    (bn3): BatchNorm2d(2048, eps=1e-05, momentum=0.1, affine=True, track_running_stats=True)\\n    (relu): ReLU(inplace=True)\\n    (downsample): Sequential(\\n      (0): Conv2d(1024, 2048, kernel_size=(1, 1), stride=(2, 2), bias=False)\\n      (1): BatchNorm2d(2048, eps=1e-05, momentum=0.1, affine=True, track_running_stats=True)\\n    )\\n  )\\n  (1): Bottleneck(\\n    (conv1): Conv2d(2048, 512, kernel_size=(1, 1), stride=(1, 1), bias=False)\\n    (bn1): BatchNorm2d(512, eps=1e-05, momentum=0.1, affine=True, track_running_stats=True)\\n    (conv2): Conv2d(512, 512, kernel_size=(3, 3), stride=(1, 1), padding=(1, 1), bias=False)\\n    (bn2): BatchNorm2d(512, eps=1e-05, momentum=0.1, affine=True, track_running_stats=True)\\n    (conv3): Conv2d(512, 2048, kernel_size=(1, 1), stride=(1, 1), bias=False)\\n    (bn3): BatchNorm2d(2048, eps=1e-05, momentum=0.1, affine=True, track_running_stats=True)\\n    (relu): ReLU(inplace=True)\\n  )\\n  (2): Bottleneck(\\n    (conv1): Conv2d(2048, 512, kernel_size=(1, 1), stride=(1, 1), bias=False)\\n    (bn1): BatchNorm2d(512, eps=1e-05, momentum=0.1, affine=True, track_running_stats=True)\\n    (conv2): Conv2d(512, 512, kernel_size=(3, 3), stride=(1, 1), padding=(1, 1), bias=False)\\n    (bn2): BatchNorm2d(512, eps=1e-05, momentum=0.1, affine=True, track_running_stats=True)\\n    (conv3): Conv2d(512, 2048, kernel_size=(1, 1), stride=(1, 1), bias=False)\\n    (bn3): BatchNorm2d(2048, eps=1e-05, momentum=0.1, affine=True, track_running_stats=True)\\n    (relu): ReLU(inplace=True)\\n  )\\n)                  0                                0                  \n",
      "                                                                                                                                                                                                                                                                                                                                                                                                                                                                                                                                                                                                                                                                                                                                                                                                                                                                                                                                                                                                                                                                                                                                                                                                                                                                                                                                                                                                                                                                                                                                                                                                                                                                                                                                                                                                                                                                                                                                                                                                                                                                                                                                                                                                                                                                                                                                                                                                                                                                                                                                                                                                                                                                                                                                                                                                                                                                                                                                                                                                                                                                                                                                                                                                                                                                                                                                                                                                                                                                                                                                                                                                                                                                                                                                                                                                                                                                       AdaptiveAvgPool2d(output_size=(1, 1))                  0                                0                  \n",
      "                                                                                                                                                                                                                                                                                                                                                                                                                                                                                                                                                                                                                                                                                                                                                                                                                                                                                                                                                                                                                                                                                                                                                                                                                                                                                                                                                                                                                                                                                                                                                                                                                                                                                                                                                                                                                                                                                                                                                                                                                                                                                                                                                                                                                                                                                                                                                                                                                                                                                                                                                                                                                                                                                                                                                                                                                                                                                                                                                                                                                                                                                                                                                                                                                                                                                                                                                                                                                                                                                                                                                                                                                                                                                                                                                                                                                                                         Linear(in_features=2048, out_features=2, bias=True)               4160                                0                  \n",
      "=======================================================================================================================================================================================================================================================================================================================================================================================================================================================================================================================================================================================================================================================================================================================================================================================================================================================================================================================================================================================================================================================================================================================================================================================================================================================================================================================================================================================================================================================================================================================================================================================================================================================================================================================================================================================================================================================================================================================================================================================================================================================================================================================================================================================================================================================================================================================================================================================================================================================================================================================================================================================================================================================================================================================================================================================================================================================================================================================================================================================================================================================================================================================================================================================================================================================================================================================================================================================================================================================================================================================================================================================================================================================================================================================================================================================================================================================================================================================\n",
      "Total\n",
      "    Trainable Parameters: 13696\n",
      "    Non Trainable Parameters: 0\n",
      "=======================================================================================================================================================================================================================================================================================================================================================================================================================================================================================================================================================================================================================================================================================================================================================================================================================================================================================================================================================================================================================================================================================================================================================================================================================================================================================================================================================================================================================================================================================================================================================================================================================================================================================================================================================================================================================================================================================================================================================================================================================================================================================================================================================================================================================================================================================================================================================================================================================================================================================================================================================================================================================================================================================================================================================================================================================================================================================================================================================================================================================================================================================================================================================================================================================================================================================================================================================================================================================================================================================================================================================================================================================================================================================================================================================================================================================================================================================================================\n",
      "\n"
     ]
    }
   ],
   "source": [
    "### transfert learning\n",
    "# Instantiate the model to exploit\n",
    "model_tl = models.resnet50(weights=models.ResNet50_Weights.IMAGENET1K_V2)\n",
    "\n",
    "# Replace the last fully connected layer to fit with the number of classes of the dataset\n",
    "model_tl.fc = nn.Linear(model_tl.fc.in_features, class_number)\n",
    "\n",
    "# Place the model into the GPU if available\n",
    "model_tl = model_tl.to(device)\n",
    "\n",
    "# Print information about the model\n",
    "get_model_information(model_tl)"
   ]
  },
  {
   "cell_type": "markdown",
   "id": "bd2044ee",
   "metadata": {
    "papermill": {
     "duration": 0.007691,
     "end_time": "2024-11-20T18:37:46.886200",
     "exception": false,
     "start_time": "2024-11-20T18:37:46.878509",
     "status": "completed"
    },
    "tags": []
   },
   "source": [
    "## Set the loss function and optimizer"
   ]
  },
  {
   "cell_type": "code",
   "execution_count": 20,
   "id": "93a9330a",
   "metadata": {
    "execution": {
     "iopub.execute_input": "2024-11-20T18:37:46.902959Z",
     "iopub.status.busy": "2024-11-20T18:37:46.902659Z",
     "iopub.status.idle": "2024-11-20T18:37:46.907291Z",
     "shell.execute_reply": "2024-11-20T18:37:46.906466Z"
    },
    "papermill": {
     "duration": 0.014738,
     "end_time": "2024-11-20T18:37:46.908775",
     "exception": false,
     "start_time": "2024-11-20T18:37:46.894037",
     "status": "completed"
    },
    "tags": []
   },
   "outputs": [],
   "source": [
    "# Create the loss function\n",
    "loss_function = nn.CrossEntropyLoss()\n",
    "# Create the optimizer\n",
    "optimizer = optim.SGD(model_tl.parameters(), lr=learning_rate)"
   ]
  },
  {
   "cell_type": "markdown",
   "id": "c54cd479",
   "metadata": {
    "papermill": {
     "duration": 0.007788,
     "end_time": "2024-11-20T18:37:46.924368",
     "exception": false,
     "start_time": "2024-11-20T18:37:46.916580",
     "status": "completed"
    },
    "tags": []
   },
   "source": [
    "## Train and Test the Transfert Learning"
   ]
  },
  {
   "cell_type": "code",
   "execution_count": 21,
   "id": "e2879c8d",
   "metadata": {
    "execution": {
     "iopub.execute_input": "2024-11-20T18:37:46.941227Z",
     "iopub.status.busy": "2024-11-20T18:37:46.941009Z",
     "iopub.status.idle": "2024-11-20T18:46:15.370761Z",
     "shell.execute_reply": "2024-11-20T18:46:15.369687Z"
    },
    "papermill": {
     "duration": 508.440562,
     "end_time": "2024-11-20T18:46:15.372815",
     "exception": false,
     "start_time": "2024-11-20T18:37:46.932253",
     "status": "completed"
    },
    "tags": []
   },
   "outputs": [
    {
     "name": "stderr",
     "output_type": "stream",
     "text": [
      "Epoch 1/3: 100%|██████████| 131/131 [02:34<00:00,  1.18s/ mini-batch, train_accuracy=72.7, train_loss=0.585]\n",
      "               Validation step: 100%|██████████| 33/33 [00:31<00:00,  1.04 mini-batch/s, validation_accuracy=74.9, validation_loss=0.533]\n",
      "Epoch 2/3: 100%|██████████| 131/131 [02:04<00:00,  1.05 mini-batch/s, train_accuracy=74.8, train_loss=0.52]\n",
      "               Validation step: 100%|██████████| 33/33 [00:25<00:00,  1.29 mini-batch/s, validation_accuracy=75.2, validation_loss=0.449]\n",
      "Epoch 3/3: 100%|██████████| 131/131 [02:05<00:00,  1.04 mini-batch/s, train_accuracy=83.4, train_loss=0.351]\n",
      "               Validation step: 100%|██████████| 33/33 [00:25<00:00,  1.30 mini-batch/s, validation_accuracy=89.4, validation_loss=0.323]\n"
     ]
    },
    {
     "data": {
      "text/html": [
       "        <script type=\"text/javascript\">\n",
       "        window.PlotlyConfig = {MathJaxConfig: 'local'};\n",
       "        if (window.MathJax && window.MathJax.Hub && window.MathJax.Hub.Config) {window.MathJax.Hub.Config({SVG: {font: \"STIX-Web\"}});}\n",
       "        if (typeof require !== 'undefined') {\n",
       "        require.undef(\"plotly\");\n",
       "        requirejs.config({\n",
       "            paths: {\n",
       "                'plotly': ['https://cdn.plot.ly/plotly-2.32.0.min']\n",
       "            }\n",
       "        });\n",
       "        require(['plotly'], function(Plotly) {\n",
       "            window._Plotly = Plotly;\n",
       "        });\n",
       "        }\n",
       "        </script>\n",
       "        "
      ]
     },
     "metadata": {},
     "output_type": "display_data"
    },
    {
     "data": {
      "text/html": [
       "<div>                            <div id=\"1f96e92f-af07-4651-9f76-7e85cdb2caaa\" class=\"plotly-graph-div\" style=\"height:1500px; width:100%;\"></div>            <script type=\"text/javascript\">                require([\"plotly\"], function(Plotly) {                    window.PLOTLYENV=window.PLOTLYENV || {};                                    if (document.getElementById(\"1f96e92f-af07-4651-9f76-7e85cdb2caaa\")) {                    Plotly.newPlot(                        \"1f96e92f-af07-4651-9f76-7e85cdb2caaa\",                        [{\"hovertemplate\":\"Stage=Train\\u003cbr\\u003eEpochs=%{x}\\u003cbr\\u003eLoss=%{y}\\u003cextra\\u003e\\u003c\\u002fextra\\u003e\",\"legendgroup\":\"Train\",\"line\":{\"color\":\"#636efa\",\"dash\":\"solid\"},\"marker\":{\"symbol\":\"circle\"},\"mode\":\"lines\",\"name\":\"Train\",\"orientation\":\"v\",\"showlegend\":true,\"x\":[1,2,3],\"xaxis\":\"x\",\"y\":[0.5853372532447786,0.5200105207111999,0.35062385492652426],\"yaxis\":\"y\",\"type\":\"scatter\"},{\"hovertemplate\":\"Stage=Validation\\u003cbr\\u003eEpochs=%{x}\\u003cbr\\u003eLoss=%{y}\\u003cextra\\u003e\\u003c\\u002fextra\\u003e\",\"legendgroup\":\"Validation\",\"line\":{\"color\":\"#EF553B\",\"dash\":\"solid\"},\"marker\":{\"symbol\":\"circle\"},\"mode\":\"lines\",\"name\":\"Validation\",\"orientation\":\"v\",\"showlegend\":true,\"x\":[1,2,3],\"xaxis\":\"x\",\"y\":[0.5325150020194777,0.4491757344115864,0.3225229052883206],\"yaxis\":\"y\",\"type\":\"scatter\"},{\"hovertemplate\":\"Stage=Train\\u003cbr\\u003eEpochs=%{x}\\u003cbr\\u003eAccuracy=%{y}\\u003cextra\\u003e\\u003c\\u002fextra\\u003e\",\"legendgroup\":\"Train\",\"line\":{\"color\":\"#636efa\",\"dash\":\"solid\"},\"marker\":{\"symbol\":\"circle\"},\"mode\":\"lines\",\"name\":\"Train\",\"orientation\":\"v\",\"showlegend\":true,\"x\":[1,2,3],\"xaxis\":\"x2\",\"y\":[0.7277085330776606,0.7476030680728667,0.8346116970278044],\"yaxis\":\"y2\",\"type\":\"scatter\"},{\"hovertemplate\":\"Stage=Validation\\u003cbr\\u003eEpochs=%{x}\\u003cbr\\u003eAccuracy=%{y}\\u003cextra\\u003e\\u003c\\u002fextra\\u003e\",\"legendgroup\":\"Validation\",\"line\":{\"color\":\"#EF553B\",\"dash\":\"solid\"},\"marker\":{\"symbol\":\"circle\"},\"mode\":\"lines\",\"name\":\"Validation\",\"orientation\":\"v\",\"showlegend\":true,\"x\":[1,2,3],\"xaxis\":\"x2\",\"y\":[0.75,0.7519157088122606,0.8946360153256705],\"yaxis\":\"y2\",\"type\":\"scatter\"},{\"hovertemplate\":\"Stage=Train\\u003cbr\\u003eEpochs=%{x}\\u003cbr\\u003eBalanced Accuracy=%{y}\\u003cextra\\u003e\\u003c\\u002fextra\\u003e\",\"legendgroup\":\"Train\",\"line\":{\"color\":\"#636efa\",\"dash\":\"solid\"},\"marker\":{\"symbol\":\"circle\"},\"mode\":\"lines\",\"name\":\"Train\",\"orientation\":\"v\",\"showlegend\":true,\"x\":[1,2,3],\"xaxis\":\"x3\",\"y\":[0.497571989842365,0.5263577451966844,0.7145974078865411],\"yaxis\":\"y3\",\"type\":\"scatter\"},{\"hovertemplate\":\"Stage=Validation\\u003cbr\\u003eEpochs=%{x}\\u003cbr\\u003eBalanced Accuracy=%{y}\\u003cextra\\u003e\\u003c\\u002fextra\\u003e\",\"legendgroup\":\"Validation\",\"line\":{\"color\":\"#EF553B\",\"dash\":\"solid\"},\"marker\":{\"symbol\":\"circle\"},\"mode\":\"lines\",\"name\":\"Validation\",\"orientation\":\"v\",\"showlegend\":true,\"x\":[1,2,3],\"xaxis\":\"x3\",\"y\":[0.5,0.5038314176245211,0.8505747126436782],\"yaxis\":\"y3\",\"type\":\"scatter\"},{\"hovertemplate\":\"Stage=Train\\u003cbr\\u003eEpochs=%{x}\\u003cbr\\u003eF1-score=%{y}\\u003cextra\\u003e\\u003c\\u002fextra\\u003e\",\"legendgroup\":\"Train\",\"line\":{\"color\":\"#636efa\",\"dash\":\"solid\"},\"marker\":{\"symbol\":\"circle\"},\"mode\":\"lines\",\"name\":\"Train\",\"orientation\":\"v\",\"showlegend\":true,\"x\":[1,2,3],\"xaxis\":\"x4\",\"y\":[0.7277085330776606,0.7476030680728667,0.8346116970278044],\"yaxis\":\"y4\",\"type\":\"scatter\"},{\"hovertemplate\":\"Stage=Validation\\u003cbr\\u003eEpochs=%{x}\\u003cbr\\u003eF1-score=%{y}\\u003cextra\\u003e\\u003c\\u002fextra\\u003e\",\"legendgroup\":\"Validation\",\"line\":{\"color\":\"#EF553B\",\"dash\":\"solid\"},\"marker\":{\"symbol\":\"circle\"},\"mode\":\"lines\",\"name\":\"Validation\",\"orientation\":\"v\",\"showlegend\":true,\"x\":[1,2,3],\"xaxis\":\"x4\",\"y\":[0.75,0.7519157088122606,0.8946360153256705],\"yaxis\":\"y4\",\"type\":\"scatter\"},{\"hovertemplate\":\"Stage=Train\\u003cbr\\u003eEpochs=%{x}\\u003cbr\\u003eKappa=%{y}\\u003cextra\\u003e\\u003c\\u002fextra\\u003e\",\"legendgroup\":\"Train\",\"line\":{\"color\":\"#636efa\",\"dash\":\"solid\"},\"marker\":{\"symbol\":\"circle\"},\"mode\":\"lines\",\"name\":\"Train\",\"orientation\":\"v\",\"showlegend\":true,\"x\":[1,2,3],\"xaxis\":\"x5\",\"y\":[-0.006890222139130042,0.07419558508535384,0.49893753898939486],\"yaxis\":\"y5\",\"type\":\"scatter\"},{\"hovertemplate\":\"Stage=Validation\\u003cbr\\u003eEpochs=%{x}\\u003cbr\\u003eKappa=%{y}\\u003cextra\\u003e\\u003c\\u002fextra\\u003e\",\"legendgroup\":\"Validation\",\"line\":{\"color\":\"#EF553B\",\"dash\":\"solid\"},\"marker\":{\"symbol\":\"circle\"},\"mode\":\"lines\",\"name\":\"Validation\",\"orientation\":\"v\",\"showlegend\":true,\"x\":[1,2,3],\"xaxis\":\"x5\",\"y\":[0.0,0.011450381679389277,0.7139141742522757],\"yaxis\":\"y5\",\"type\":\"scatter\"}],                        {\"template\":{\"data\":{\"histogram2dcontour\":[{\"type\":\"histogram2dcontour\",\"colorbar\":{\"outlinewidth\":0,\"ticks\":\"\"},\"colorscale\":[[0.0,\"#0d0887\"],[0.1111111111111111,\"#46039f\"],[0.2222222222222222,\"#7201a8\"],[0.3333333333333333,\"#9c179e\"],[0.4444444444444444,\"#bd3786\"],[0.5555555555555556,\"#d8576b\"],[0.6666666666666666,\"#ed7953\"],[0.7777777777777778,\"#fb9f3a\"],[0.8888888888888888,\"#fdca26\"],[1.0,\"#f0f921\"]]}],\"choropleth\":[{\"type\":\"choropleth\",\"colorbar\":{\"outlinewidth\":0,\"ticks\":\"\"}}],\"histogram2d\":[{\"type\":\"histogram2d\",\"colorbar\":{\"outlinewidth\":0,\"ticks\":\"\"},\"colorscale\":[[0.0,\"#0d0887\"],[0.1111111111111111,\"#46039f\"],[0.2222222222222222,\"#7201a8\"],[0.3333333333333333,\"#9c179e\"],[0.4444444444444444,\"#bd3786\"],[0.5555555555555556,\"#d8576b\"],[0.6666666666666666,\"#ed7953\"],[0.7777777777777778,\"#fb9f3a\"],[0.8888888888888888,\"#fdca26\"],[1.0,\"#f0f921\"]]}],\"heatmap\":[{\"type\":\"heatmap\",\"colorbar\":{\"outlinewidth\":0,\"ticks\":\"\"},\"colorscale\":[[0.0,\"#0d0887\"],[0.1111111111111111,\"#46039f\"],[0.2222222222222222,\"#7201a8\"],[0.3333333333333333,\"#9c179e\"],[0.4444444444444444,\"#bd3786\"],[0.5555555555555556,\"#d8576b\"],[0.6666666666666666,\"#ed7953\"],[0.7777777777777778,\"#fb9f3a\"],[0.8888888888888888,\"#fdca26\"],[1.0,\"#f0f921\"]]}],\"heatmapgl\":[{\"type\":\"heatmapgl\",\"colorbar\":{\"outlinewidth\":0,\"ticks\":\"\"},\"colorscale\":[[0.0,\"#0d0887\"],[0.1111111111111111,\"#46039f\"],[0.2222222222222222,\"#7201a8\"],[0.3333333333333333,\"#9c179e\"],[0.4444444444444444,\"#bd3786\"],[0.5555555555555556,\"#d8576b\"],[0.6666666666666666,\"#ed7953\"],[0.7777777777777778,\"#fb9f3a\"],[0.8888888888888888,\"#fdca26\"],[1.0,\"#f0f921\"]]}],\"contourcarpet\":[{\"type\":\"contourcarpet\",\"colorbar\":{\"outlinewidth\":0,\"ticks\":\"\"}}],\"contour\":[{\"type\":\"contour\",\"colorbar\":{\"outlinewidth\":0,\"ticks\":\"\"},\"colorscale\":[[0.0,\"#0d0887\"],[0.1111111111111111,\"#46039f\"],[0.2222222222222222,\"#7201a8\"],[0.3333333333333333,\"#9c179e\"],[0.4444444444444444,\"#bd3786\"],[0.5555555555555556,\"#d8576b\"],[0.6666666666666666,\"#ed7953\"],[0.7777777777777778,\"#fb9f3a\"],[0.8888888888888888,\"#fdca26\"],[1.0,\"#f0f921\"]]}],\"surface\":[{\"type\":\"surface\",\"colorbar\":{\"outlinewidth\":0,\"ticks\":\"\"},\"colorscale\":[[0.0,\"#0d0887\"],[0.1111111111111111,\"#46039f\"],[0.2222222222222222,\"#7201a8\"],[0.3333333333333333,\"#9c179e\"],[0.4444444444444444,\"#bd3786\"],[0.5555555555555556,\"#d8576b\"],[0.6666666666666666,\"#ed7953\"],[0.7777777777777778,\"#fb9f3a\"],[0.8888888888888888,\"#fdca26\"],[1.0,\"#f0f921\"]]}],\"mesh3d\":[{\"type\":\"mesh3d\",\"colorbar\":{\"outlinewidth\":0,\"ticks\":\"\"}}],\"scatter\":[{\"fillpattern\":{\"fillmode\":\"overlay\",\"size\":10,\"solidity\":0.2},\"type\":\"scatter\"}],\"parcoords\":[{\"type\":\"parcoords\",\"line\":{\"colorbar\":{\"outlinewidth\":0,\"ticks\":\"\"}}}],\"scatterpolargl\":[{\"type\":\"scatterpolargl\",\"marker\":{\"colorbar\":{\"outlinewidth\":0,\"ticks\":\"\"}}}],\"bar\":[{\"error_x\":{\"color\":\"#2a3f5f\"},\"error_y\":{\"color\":\"#2a3f5f\"},\"marker\":{\"line\":{\"color\":\"#E5ECF6\",\"width\":0.5},\"pattern\":{\"fillmode\":\"overlay\",\"size\":10,\"solidity\":0.2}},\"type\":\"bar\"}],\"scattergeo\":[{\"type\":\"scattergeo\",\"marker\":{\"colorbar\":{\"outlinewidth\":0,\"ticks\":\"\"}}}],\"scatterpolar\":[{\"type\":\"scatterpolar\",\"marker\":{\"colorbar\":{\"outlinewidth\":0,\"ticks\":\"\"}}}],\"histogram\":[{\"marker\":{\"pattern\":{\"fillmode\":\"overlay\",\"size\":10,\"solidity\":0.2}},\"type\":\"histogram\"}],\"scattergl\":[{\"type\":\"scattergl\",\"marker\":{\"colorbar\":{\"outlinewidth\":0,\"ticks\":\"\"}}}],\"scatter3d\":[{\"type\":\"scatter3d\",\"line\":{\"colorbar\":{\"outlinewidth\":0,\"ticks\":\"\"}},\"marker\":{\"colorbar\":{\"outlinewidth\":0,\"ticks\":\"\"}}}],\"scattermapbox\":[{\"type\":\"scattermapbox\",\"marker\":{\"colorbar\":{\"outlinewidth\":0,\"ticks\":\"\"}}}],\"scatterternary\":[{\"type\":\"scatterternary\",\"marker\":{\"colorbar\":{\"outlinewidth\":0,\"ticks\":\"\"}}}],\"scattercarpet\":[{\"type\":\"scattercarpet\",\"marker\":{\"colorbar\":{\"outlinewidth\":0,\"ticks\":\"\"}}}],\"carpet\":[{\"aaxis\":{\"endlinecolor\":\"#2a3f5f\",\"gridcolor\":\"white\",\"linecolor\":\"white\",\"minorgridcolor\":\"white\",\"startlinecolor\":\"#2a3f5f\"},\"baxis\":{\"endlinecolor\":\"#2a3f5f\",\"gridcolor\":\"white\",\"linecolor\":\"white\",\"minorgridcolor\":\"white\",\"startlinecolor\":\"#2a3f5f\"},\"type\":\"carpet\"}],\"table\":[{\"cells\":{\"fill\":{\"color\":\"#EBF0F8\"},\"line\":{\"color\":\"white\"}},\"header\":{\"fill\":{\"color\":\"#C8D4E3\"},\"line\":{\"color\":\"white\"}},\"type\":\"table\"}],\"barpolar\":[{\"marker\":{\"line\":{\"color\":\"#E5ECF6\",\"width\":0.5},\"pattern\":{\"fillmode\":\"overlay\",\"size\":10,\"solidity\":0.2}},\"type\":\"barpolar\"}],\"pie\":[{\"automargin\":true,\"type\":\"pie\"}]},\"layout\":{\"autotypenumbers\":\"strict\",\"colorway\":[\"#636efa\",\"#EF553B\",\"#00cc96\",\"#ab63fa\",\"#FFA15A\",\"#19d3f3\",\"#FF6692\",\"#B6E880\",\"#FF97FF\",\"#FECB52\"],\"font\":{\"color\":\"#2a3f5f\"},\"hovermode\":\"closest\",\"hoverlabel\":{\"align\":\"left\"},\"paper_bgcolor\":\"white\",\"plot_bgcolor\":\"#E5ECF6\",\"polar\":{\"bgcolor\":\"#E5ECF6\",\"angularaxis\":{\"gridcolor\":\"white\",\"linecolor\":\"white\",\"ticks\":\"\"},\"radialaxis\":{\"gridcolor\":\"white\",\"linecolor\":\"white\",\"ticks\":\"\"}},\"ternary\":{\"bgcolor\":\"#E5ECF6\",\"aaxis\":{\"gridcolor\":\"white\",\"linecolor\":\"white\",\"ticks\":\"\"},\"baxis\":{\"gridcolor\":\"white\",\"linecolor\":\"white\",\"ticks\":\"\"},\"caxis\":{\"gridcolor\":\"white\",\"linecolor\":\"white\",\"ticks\":\"\"}},\"coloraxis\":{\"colorbar\":{\"outlinewidth\":0,\"ticks\":\"\"}},\"colorscale\":{\"sequential\":[[0.0,\"#0d0887\"],[0.1111111111111111,\"#46039f\"],[0.2222222222222222,\"#7201a8\"],[0.3333333333333333,\"#9c179e\"],[0.4444444444444444,\"#bd3786\"],[0.5555555555555556,\"#d8576b\"],[0.6666666666666666,\"#ed7953\"],[0.7777777777777778,\"#fb9f3a\"],[0.8888888888888888,\"#fdca26\"],[1.0,\"#f0f921\"]],\"sequentialminus\":[[0.0,\"#0d0887\"],[0.1111111111111111,\"#46039f\"],[0.2222222222222222,\"#7201a8\"],[0.3333333333333333,\"#9c179e\"],[0.4444444444444444,\"#bd3786\"],[0.5555555555555556,\"#d8576b\"],[0.6666666666666666,\"#ed7953\"],[0.7777777777777778,\"#fb9f3a\"],[0.8888888888888888,\"#fdca26\"],[1.0,\"#f0f921\"]],\"diverging\":[[0,\"#8e0152\"],[0.1,\"#c51b7d\"],[0.2,\"#de77ae\"],[0.3,\"#f1b6da\"],[0.4,\"#fde0ef\"],[0.5,\"#f7f7f7\"],[0.6,\"#e6f5d0\"],[0.7,\"#b8e186\"],[0.8,\"#7fbc41\"],[0.9,\"#4d9221\"],[1,\"#276419\"]]},\"xaxis\":{\"gridcolor\":\"white\",\"linecolor\":\"white\",\"ticks\":\"\",\"title\":{\"standoff\":15},\"zerolinecolor\":\"white\",\"automargin\":true,\"zerolinewidth\":2},\"yaxis\":{\"gridcolor\":\"white\",\"linecolor\":\"white\",\"ticks\":\"\",\"title\":{\"standoff\":15},\"zerolinecolor\":\"white\",\"automargin\":true,\"zerolinewidth\":2},\"scene\":{\"xaxis\":{\"backgroundcolor\":\"#E5ECF6\",\"gridcolor\":\"white\",\"linecolor\":\"white\",\"showbackground\":true,\"ticks\":\"\",\"zerolinecolor\":\"white\",\"gridwidth\":2},\"yaxis\":{\"backgroundcolor\":\"#E5ECF6\",\"gridcolor\":\"white\",\"linecolor\":\"white\",\"showbackground\":true,\"ticks\":\"\",\"zerolinecolor\":\"white\",\"gridwidth\":2},\"zaxis\":{\"backgroundcolor\":\"#E5ECF6\",\"gridcolor\":\"white\",\"linecolor\":\"white\",\"showbackground\":true,\"ticks\":\"\",\"zerolinecolor\":\"white\",\"gridwidth\":2}},\"shapedefaults\":{\"line\":{\"color\":\"#2a3f5f\"}},\"annotationdefaults\":{\"arrowcolor\":\"#2a3f5f\",\"arrowhead\":0,\"arrowwidth\":1},\"geo\":{\"bgcolor\":\"white\",\"landcolor\":\"#E5ECF6\",\"subunitcolor\":\"white\",\"showland\":true,\"showlakes\":true,\"lakecolor\":\"white\"},\"title\":{\"x\":0.05},\"mapbox\":{\"style\":\"light\"}}},\"xaxis\":{\"anchor\":\"y\",\"domain\":[0.0,1.0]},\"yaxis\":{\"anchor\":\"x\",\"domain\":[0.88,1.0]},\"xaxis2\":{\"anchor\":\"y2\",\"domain\":[0.0,1.0]},\"yaxis2\":{\"anchor\":\"x2\",\"domain\":[0.66,0.78]},\"xaxis3\":{\"anchor\":\"y3\",\"domain\":[0.0,1.0]},\"yaxis3\":{\"anchor\":\"x3\",\"domain\":[0.44,0.56]},\"xaxis4\":{\"anchor\":\"y4\",\"domain\":[0.0,1.0]},\"yaxis4\":{\"anchor\":\"x4\",\"domain\":[0.22,0.33999999999999997]},\"xaxis5\":{\"anchor\":\"y5\",\"domain\":[0.0,1.0]},\"yaxis5\":{\"anchor\":\"x5\",\"domain\":[0.0,0.12]},\"annotations\":[{\"font\":{\"size\":16},\"showarrow\":false,\"text\":\"Loss\",\"x\":0.5,\"xanchor\":\"center\",\"xref\":\"paper\",\"y\":1.0,\"yanchor\":\"bottom\",\"yref\":\"paper\"},{\"font\":{\"size\":16},\"showarrow\":false,\"text\":\"Accuracy\",\"x\":0.5,\"xanchor\":\"center\",\"xref\":\"paper\",\"y\":0.78,\"yanchor\":\"bottom\",\"yref\":\"paper\"},{\"font\":{\"size\":16},\"showarrow\":false,\"text\":\"Balanced Accuracy\",\"x\":0.5,\"xanchor\":\"center\",\"xref\":\"paper\",\"y\":0.56,\"yanchor\":\"bottom\",\"yref\":\"paper\"},{\"font\":{\"size\":16},\"showarrow\":false,\"text\":\"F1-score\",\"x\":0.5,\"xanchor\":\"center\",\"xref\":\"paper\",\"y\":0.33999999999999997,\"yanchor\":\"bottom\",\"yref\":\"paper\"},{\"font\":{\"size\":16},\"showarrow\":false,\"text\":\"Kappa\",\"x\":0.5,\"xanchor\":\"center\",\"xref\":\"paper\",\"y\":0.12,\"yanchor\":\"bottom\",\"yref\":\"paper\"}],\"title\":{\"text\":\"Training and Validation Scores\"},\"height\":1500},                        {\"responsive\": true}                    ).then(function(){\n",
       "                            \n",
       "var gd = document.getElementById('1f96e92f-af07-4651-9f76-7e85cdb2caaa');\n",
       "var x = new MutationObserver(function (mutations, observer) {{\n",
       "        var display = window.getComputedStyle(gd).display;\n",
       "        if (!display || display === 'none') {{\n",
       "            console.log([gd, 'removed!']);\n",
       "            Plotly.purge(gd);\n",
       "            observer.disconnect();\n",
       "        }}\n",
       "}});\n",
       "\n",
       "// Listen for the removal of the full notebook cells\n",
       "var notebookContainer = gd.closest('#notebook-container');\n",
       "if (notebookContainer) {{\n",
       "    x.observe(notebookContainer, {childList: true});\n",
       "}}\n",
       "\n",
       "// Listen for the clearing of the current output cell\n",
       "var outputEl = gd.closest('.output');\n",
       "if (outputEl) {{\n",
       "    x.observe(outputEl, {childList: true});\n",
       "}}\n",
       "\n",
       "                        })                };                });            </script>        </div>"
      ]
     },
     "metadata": {},
     "output_type": "display_data"
    },
    {
     "name": "stdout",
     "output_type": "stream",
     "text": [
      "\n",
      "\n"
     ]
    },
    {
     "name": "stderr",
     "output_type": "stream",
     "text": [
      "Testing the training model: 100%|██████████| 20/20 [00:19<00:00,  1.03 mini-batch/s, testing_accuracy=78.3, testing_loss=0.462]"
     ]
    },
    {
     "name": "stdout",
     "output_type": "stream",
     "text": [
      "Accuracy: 0.7788461538461539\n",
      "Balanced Accuracy: 0.7247863247863248\n",
      "F1-score: 0.7788461538461539\n",
      "Kappa: 0.4879406307977736\n",
      "[[119 115]\n",
      " [ 23 367]]\n",
      "              precision    recall  f1-score   support\n",
      "\n",
      "      NORMAL       0.84      0.51      0.63       234\n",
      "   PNEUMONIA       0.76      0.94      0.84       390\n",
      "\n",
      "    accuracy                           0.78       624\n",
      "   macro avg       0.80      0.72      0.74       624\n",
      "weighted avg       0.79      0.78      0.76       624\n",
      "\n"
     ]
    },
    {
     "name": "stderr",
     "output_type": "stream",
     "text": [
      "\n"
     ]
    },
    {
     "data": {
      "text/html": [
       "<div>\n",
       "<style scoped>\n",
       "    .dataframe tbody tr th:only-of-type {\n",
       "        vertical-align: middle;\n",
       "    }\n",
       "\n",
       "    .dataframe tbody tr th {\n",
       "        vertical-align: top;\n",
       "    }\n",
       "\n",
       "    .dataframe thead th {\n",
       "        text-align: right;\n",
       "    }\n",
       "</style>\n",
       "<table border=\"1\" class=\"dataframe\">\n",
       "  <thead>\n",
       "    <tr style=\"text-align: right;\">\n",
       "      <th></th>\n",
       "      <th>Loss</th>\n",
       "      <th>Accuracy</th>\n",
       "      <th>Balanced Accuracy</th>\n",
       "      <th>F1-score</th>\n",
       "      <th>Kappa</th>\n",
       "    </tr>\n",
       "  </thead>\n",
       "  <tbody>\n",
       "    <tr>\n",
       "      <th>0</th>\n",
       "      <td>0.462042</td>\n",
       "      <td>0.778846</td>\n",
       "      <td>0.724786</td>\n",
       "      <td>0.778846</td>\n",
       "      <td>0.487941</td>\n",
       "    </tr>\n",
       "  </tbody>\n",
       "</table>\n",
       "</div>"
      ],
      "text/plain": [
       "       Loss  Accuracy  Balanced Accuracy  F1-score     Kappa\n",
       "0  0.462042  0.778846           0.724786  0.778846  0.487941"
      ]
     },
     "execution_count": 21,
     "metadata": {},
     "output_type": "execute_result"
    }
   ],
   "source": [
    "# Train the neural network\n",
    "model_tl = train_model(epoch_number_tl, train_loader, val_loader, model_tl, optimizer, loss_function, device,\n",
    "                    results_path, my_folder_name)\n",
    "# Test the neural network\n",
    "test_model(test_loader, model_tl, loss_function, device, classes)"
   ]
  },
  {
   "cell_type": "markdown",
   "id": "dd214a30",
   "metadata": {
    "papermill": {
     "duration": 0.07457,
     "end_time": "2024-11-20T18:46:15.529034",
     "exception": false,
     "start_time": "2024-11-20T18:46:15.454464",
     "status": "completed"
    },
    "tags": []
   },
   "source": [
    "## Save the model"
   ]
  },
  {
   "cell_type": "code",
   "execution_count": 22,
   "id": "09ee6559",
   "metadata": {
    "execution": {
     "iopub.execute_input": "2024-11-20T18:46:15.679057Z",
     "iopub.status.busy": "2024-11-20T18:46:15.678772Z",
     "iopub.status.idle": "2024-11-20T18:46:15.815780Z",
     "shell.execute_reply": "2024-11-20T18:46:15.814804Z"
    },
    "papermill": {
     "duration": 0.214667,
     "end_time": "2024-11-20T18:46:15.817631",
     "exception": false,
     "start_time": "2024-11-20T18:46:15.602964",
     "status": "completed"
    },
    "tags": []
   },
   "outputs": [
    {
     "name": "stdout",
     "output_type": "stream",
     "text": [
      "\n",
      "The program are saving the trained model. Please wait ...\n",
      "\n",
      "Model saved\n"
     ]
    }
   ],
   "source": [
    "print(\"\\nThe program are saving the trained model. Please wait ...\")\n",
    "torch.save(model_tl.state_dict(), os.path.join(results_path, my_folder_name, \"my_TL.pth\"))\n",
    "print(\"\\nModel saved\")"
   ]
  },
  {
   "cell_type": "markdown",
   "id": "c19a1056",
   "metadata": {
    "papermill": {
     "duration": 0.073636,
     "end_time": "2024-11-20T18:46:15.967031",
     "exception": false,
     "start_time": "2024-11-20T18:46:15.893395",
     "status": "completed"
    },
    "tags": []
   },
   "source": [
    "# CNN"
   ]
  },
  {
   "cell_type": "markdown",
   "id": "7fe94d22",
   "metadata": {
    "papermill": {
     "duration": 0.073705,
     "end_time": "2024-11-20T18:46:16.115243",
     "exception": false,
     "start_time": "2024-11-20T18:46:16.041538",
     "status": "completed"
    },
    "tags": []
   },
   "source": [
    "## Classe de notre CNN"
   ]
  },
  {
   "cell_type": "code",
   "execution_count": 23,
   "id": "acc87a36",
   "metadata": {
    "execution": {
     "iopub.execute_input": "2024-11-20T18:46:16.267362Z",
     "iopub.status.busy": "2024-11-20T18:46:16.266588Z",
     "iopub.status.idle": "2024-11-20T18:46:16.277463Z",
     "shell.execute_reply": "2024-11-20T18:46:16.276555Z"
    },
    "papermill": {
     "duration": 0.088594,
     "end_time": "2024-11-20T18:46:16.279017",
     "exception": false,
     "start_time": "2024-11-20T18:46:16.190423",
     "status": "completed"
    },
    "tags": []
   },
   "outputs": [],
   "source": [
    "import torch\n",
    "import torch.nn as nn\n",
    "import torch.nn.functional as F\n",
    "\n",
    "class CNNModel(nn.Module):\n",
    "    def __init__(self, input_shape=(3, 224, 224)):\n",
    "        super(CNNModel, self).__init__()\n",
    "        self.conv1 = nn.Conv2d(input_shape[0], 32, kernel_size=3, padding=1)\n",
    "        self.conv2 = nn.Conv2d(32, 32, kernel_size=3, padding=1)\n",
    "        self.pool = nn.MaxPool2d(kernel_size=2, stride=2)\n",
    "        self.dropout1 = nn.Dropout(0.25)\n",
    "\n",
    "        self.conv3 = nn.Conv2d(32, 64, kernel_size=3, padding=1)\n",
    "        self.conv4 = nn.Conv2d(64, 64, kernel_size=3, padding=1)\n",
    "        self.dropout2 = nn.Dropout(0.25)\n",
    "\n",
    "        self.conv5 = nn.Conv2d(64, 64, kernel_size=3, padding=1)\n",
    "        self.conv6 = nn.Conv2d(64, 64, kernel_size=3, padding=1)\n",
    "        self.dropout3 = nn.Dropout(0.4)\n",
    "\n",
    "        self.conv7 = nn.Conv2d(64, 128, kernel_size=3, padding=1)\n",
    "        self.conv8 = nn.Conv2d(128, 128, kernel_size=3, padding=1)\n",
    "        self.dropout4 = nn.Dropout(0.4)\n",
    "\n",
    "        self.conv9 = nn.Conv2d(128, 128, kernel_size=3, padding=1)\n",
    "        self.conv10 = nn.Conv2d(128, 128, kernel_size=3, padding=1)\n",
    "        self.dropout5 = nn.Dropout(0.4)\n",
    "\n",
    "        self.fc1 = nn.Linear(128 * 7 * 7, 256)\n",
    "        self.dropout6 = nn.Dropout(0.5)\n",
    "        self.fc2 = nn.Linear(256, 2)\n",
    "\n",
    "    def forward(self, x):\n",
    "        x = self.pool(F.relu(self.conv2(F.relu(self.conv1(x)))))\n",
    "        x = self.dropout1(x)\n",
    "\n",
    "        x = self.pool(F.relu(self.conv4(F.relu(self.conv3(x)))))\n",
    "        x = self.dropout2(x)\n",
    "\n",
    "        x = self.pool(F.relu(self.conv6(F.relu(self.conv5(x)))))\n",
    "        x = self.dropout3(x)\n",
    "\n",
    "        x = self.pool(F.relu(self.conv8(F.relu(self.conv7(x)))))\n",
    "        x = self.dropout4(x)\n",
    "\n",
    "        x = self.pool(F.relu(self.conv10(F.relu(self.conv9(x)))))\n",
    "        x = self.dropout5(x)\n",
    "\n",
    "        x = x.view(-1, 128 * 7 * 7)\n",
    "        x = F.relu(self.fc1(x))\n",
    "        x = self.dropout6(x)\n",
    "        x = self.fc2(x)\n",
    "        return x"
   ]
  },
  {
   "cell_type": "markdown",
   "id": "3c650999",
   "metadata": {
    "papermill": {
     "duration": 0.074482,
     "end_time": "2024-11-20T18:46:16.427040",
     "exception": false,
     "start_time": "2024-11-20T18:46:16.352558",
     "status": "completed"
    },
    "tags": []
   },
   "source": [
    "## Load the dataset for our CNN"
   ]
  },
  {
   "cell_type": "code",
   "execution_count": 24,
   "id": "3ed7d62d",
   "metadata": {
    "execution": {
     "iopub.execute_input": "2024-11-20T18:46:16.576977Z",
     "iopub.status.busy": "2024-11-20T18:46:16.576627Z",
     "iopub.status.idle": "2024-11-20T18:46:16.581375Z",
     "shell.execute_reply": "2024-11-20T18:46:16.580729Z"
    },
    "papermill": {
     "duration": 0.081648,
     "end_time": "2024-11-20T18:46:16.583022",
     "exception": false,
     "start_time": "2024-11-20T18:46:16.501374",
     "status": "completed"
    },
    "tags": []
   },
   "outputs": [],
   "source": [
    "\"\"\" Data Transformation \"\"\"\n",
    "# Define the transformations to apply to x data (follow ones applied for ResNet50_Weights.IMAGENET1K_V2)\n",
    "transform_cnn = transforms.Compose([\n",
    "    transforms.Resize((224, 224)),\n",
    "    transforms.ToTensor(),\n",
    "])\n",
    "\n",
    "# Define the transformations to apply to y labels\n",
    "target_transform_cnn = transforms.Compose(\n",
    "    [transforms.Lambda(\n",
    "        lambda y: torch.zeros(2, dtype=torch.float).scatter_(\n",
    "            0, \n",
    "            torch.tensor(y),\n",
    "            value=1)\n",
    "        )\n",
    "    ]\n",
    ")"
   ]
  },
  {
   "cell_type": "code",
   "execution_count": 25,
   "id": "ef3287b4",
   "metadata": {
    "execution": {
     "iopub.execute_input": "2024-11-20T18:46:16.732076Z",
     "iopub.status.busy": "2024-11-20T18:46:16.731522Z",
     "iopub.status.idle": "2024-11-20T18:46:18.722874Z",
     "shell.execute_reply": "2024-11-20T18:46:18.721818Z"
    },
    "papermill": {
     "duration": 2.06805,
     "end_time": "2024-11-20T18:46:18.724829",
     "exception": false,
     "start_time": "2024-11-20T18:46:16.656779",
     "status": "completed"
    },
    "tags": []
   },
   "outputs": [
    {
     "name": "stdout",
     "output_type": "stream",
     "text": [
      "3\n",
      "[3, 224, 224]\n"
     ]
    },
    {
     "data": {
      "text/plain": [
       "(['NORMAL', 'PNEUMONIA'], 2)"
      ]
     },
     "execution_count": 25,
     "metadata": {},
     "output_type": "execute_result"
    }
   ],
   "source": [
    "\"\"\"\" Train, validation and test sets for CNN \"\"\"\n",
    "# Load the dataset by applying transformations\n",
    "train_set_cnn = torchvision.datasets.ImageFolder(train_path , transform=transform_cnn, target_transform=target_transform_cnn)\n",
    "test_set_cnn = torchvision.datasets.ImageFolder(test_path, transform=transform_cnn, target_transform=target_transform_cnn)\n",
    "#val_set_cnn = torchvision.datasets.ImageFolder(val_path, transform=transform_cnn, target_transform=target_transform_cnn)\n",
    "\n",
    "# Define the split ratio and split the dataset\n",
    "train_ratio = 0.8  # 80% for training, 20% for validation\n",
    "train_size = int(train_ratio * len(train_set_cnn))\n",
    "val_size = len(train_set_cnn) - train_size\n",
    "\n",
    "train_subset_cnn, val_subset_cnn = random_split(train_set_cnn, [train_size, val_size])\n",
    "\n",
    "\n",
    "# Create the Python iterator for the datasets\n",
    "train_loader_cnn = torch.utils.data.DataLoader(train_subset_cnn, batch_size=batch_size, shuffle=True)\n",
    "test_loader_cnn = torch.utils.data.DataLoader(test_set_cnn, batch_size=batch_size, shuffle=False)\n",
    "val_loader_cnn = torch.utils.data.DataLoader(val_subset_cnn, batch_size=batch_size, shuffle=True)\n",
    "\n",
    "\"\"\"ATTENTION\"\"\"\n",
    "\"\"\"Ici l'algorithme fera de la classification binaire PNEUMONIA / NORMAL\"\"\"\n",
    "\"\"\"Pour changer cela et spécifier VIRUS ou BACTERIA il faudra les différencier dans les dossiers.\"\"\"\n",
    "\n",
    "# Load the first batch of images from the train set\n",
    "images, labels = next(iter(train_loader_cnn))\n",
    "\n",
    "# Get the shape of the images\n",
    "image_shape = list(images.data.shape)\n",
    "# Get automatically the number of channels of images\n",
    "image_channel = image_shape[1]\n",
    "print(image_channel)\n",
    "\n",
    "input_shape = image_shape[1:]\n",
    "print(input_shape)\n",
    "\n",
    "# Get the number of classes from the dataset\n",
    "classes = test_set_cnn.classes\n",
    "class_number = len(list(classes))\n",
    "\n",
    "classes, class_number"
   ]
  },
  {
   "cell_type": "markdown",
   "id": "b414a82c",
   "metadata": {
    "papermill": {
     "duration": 0.074598,
     "end_time": "2024-11-20T18:46:18.877149",
     "exception": false,
     "start_time": "2024-11-20T18:46:18.802551",
     "status": "completed"
    },
    "tags": []
   },
   "source": [
    "## Create our instance of CNN"
   ]
  },
  {
   "cell_type": "code",
   "execution_count": 26,
   "id": "ca38de86",
   "metadata": {
    "execution": {
     "iopub.execute_input": "2024-11-20T18:46:19.027178Z",
     "iopub.status.busy": "2024-11-20T18:46:19.026838Z",
     "iopub.status.idle": "2024-11-20T18:46:19.068561Z",
     "shell.execute_reply": "2024-11-20T18:46:19.067658Z"
    },
    "papermill": {
     "duration": 0.11842,
     "end_time": "2024-11-20T18:46:19.070264",
     "exception": false,
     "start_time": "2024-11-20T18:46:18.951844",
     "status": "completed"
    },
    "tags": []
   },
   "outputs": [
    {
     "name": "stdout",
     "output_type": "stream",
     "text": [
      "\n",
      "Model Summary\n",
      "================================================================================================================================================\n",
      "                                Layer Name                                  Number of Trainable Parameters  Number of (non trainable) Parameters\n",
      "          Conv2d(3, 32, kernel_size=(3, 3), stride=(1, 1), padding=(1, 1))                 896                               0                  \n",
      "         Conv2d(32, 32, kernel_size=(3, 3), stride=(1, 1), padding=(1, 1))                9248                               0                  \n",
      "MaxPool2d(kernel_size=2, stride=2, padding=0, dilation=1, ceil_mode=False)                   0                               0                  \n",
      "                                            Dropout(p=0.25, inplace=False)                   0                               0                  \n",
      "         Conv2d(32, 64, kernel_size=(3, 3), stride=(1, 1), padding=(1, 1))               18496                               0                  \n",
      "         Conv2d(64, 64, kernel_size=(3, 3), stride=(1, 1), padding=(1, 1))               36928                               0                  \n",
      "                                            Dropout(p=0.25, inplace=False)                   0                               0                  \n",
      "         Conv2d(64, 64, kernel_size=(3, 3), stride=(1, 1), padding=(1, 1))               36928                               0                  \n",
      "         Conv2d(64, 64, kernel_size=(3, 3), stride=(1, 1), padding=(1, 1))               36928                               0                  \n",
      "                                             Dropout(p=0.4, inplace=False)                   0                               0                  \n",
      "        Conv2d(64, 128, kernel_size=(3, 3), stride=(1, 1), padding=(1, 1))               73856                               0                  \n",
      "       Conv2d(128, 128, kernel_size=(3, 3), stride=(1, 1), padding=(1, 1))              147584                               0                  \n",
      "                                             Dropout(p=0.4, inplace=False)                   0                               0                  \n",
      "       Conv2d(128, 128, kernel_size=(3, 3), stride=(1, 1), padding=(1, 1))              147584                               0                  \n",
      "       Conv2d(128, 128, kernel_size=(3, 3), stride=(1, 1), padding=(1, 1))              147584                               0                  \n",
      "                                             Dropout(p=0.4, inplace=False)                   0                               0                  \n",
      "                     Linear(in_features=6272, out_features=256, bias=True)             1605888                               0                  \n",
      "                                             Dropout(p=0.5, inplace=False)                   0                               0                  \n",
      "                        Linear(in_features=256, out_features=2, bias=True)                 514                               0                  \n",
      "================================================================================================================================================\n",
      "Total\n",
      "    Trainable Parameters: 2262434\n",
      "    Non Trainable Parameters: 0\n",
      "================================================================================================================================================\n",
      "\n"
     ]
    }
   ],
   "source": [
    "### CNN\n",
    "# Instantiate and move the model to GPU\n",
    "model = CNNModel(input_shape).to(device)\n",
    "\n",
    "# Print information about the model\n",
    "get_model_information(model)"
   ]
  },
  {
   "cell_type": "markdown",
   "id": "c3af5a8e",
   "metadata": {
    "papermill": {
     "duration": 0.075106,
     "end_time": "2024-11-20T18:46:19.219672",
     "exception": false,
     "start_time": "2024-11-20T18:46:19.144566",
     "status": "completed"
    },
    "tags": []
   },
   "source": [
    "# Set the loss function and optimizer"
   ]
  },
  {
   "cell_type": "code",
   "execution_count": 27,
   "id": "f62c5bc7",
   "metadata": {
    "execution": {
     "iopub.execute_input": "2024-11-20T18:46:19.370699Z",
     "iopub.status.busy": "2024-11-20T18:46:19.370419Z",
     "iopub.status.idle": "2024-11-20T18:46:19.374712Z",
     "shell.execute_reply": "2024-11-20T18:46:19.373881Z"
    },
    "papermill": {
     "duration": 0.081433,
     "end_time": "2024-11-20T18:46:19.376413",
     "exception": false,
     "start_time": "2024-11-20T18:46:19.294980",
     "status": "completed"
    },
    "tags": []
   },
   "outputs": [],
   "source": [
    "# Create the loss function\n",
    "loss_function = nn.CrossEntropyLoss()\n",
    "# Create the optimizer\n",
    "optimizer = optim.Adam(model.parameters(), lr=learning_rate)"
   ]
  },
  {
   "cell_type": "markdown",
   "id": "bd7cca80",
   "metadata": {
    "papermill": {
     "duration": 0.074191,
     "end_time": "2024-11-20T18:46:19.560030",
     "exception": false,
     "start_time": "2024-11-20T18:46:19.485839",
     "status": "completed"
    },
    "tags": []
   },
   "source": [
    "## Train and test our CNN"
   ]
  },
  {
   "cell_type": "code",
   "execution_count": 28,
   "id": "8cee7714",
   "metadata": {
    "execution": {
     "iopub.execute_input": "2024-11-20T18:46:19.710060Z",
     "iopub.status.busy": "2024-11-20T18:46:19.709718Z",
     "iopub.status.idle": "2024-11-20T19:09:28.140201Z",
     "shell.execute_reply": "2024-11-20T19:09:28.139203Z"
    },
    "papermill": {
     "duration": 1388.507982,
     "end_time": "2024-11-20T19:09:28.142126",
     "exception": false,
     "start_time": "2024-11-20T18:46:19.634144",
     "status": "completed"
    },
    "tags": []
   },
   "outputs": [
    {
     "name": "stderr",
     "output_type": "stream",
     "text": [
      "Epoch 1/15: 100%|██████████| 131/131 [01:15<00:00,  1.74 mini-batch/s, train_accuracy=74.5, train_loss=0.58]\n",
      "               Validation step: 100%|██████████| 33/33 [00:16<00:00,  2.03 mini-batch/s, validation_accuracy=73.2, validation_loss=0.582]\n",
      "Epoch 2/15: 100%|██████████| 131/131 [01:15<00:00,  1.74 mini-batch/s, train_accuracy=74.5, train_loss=0.569]\n",
      "               Validation step: 100%|██████████| 33/33 [00:16<00:00,  1.96 mini-batch/s, validation_accuracy=73.2, validation_loss=0.582]\n",
      "Epoch 3/15: 100%|██████████| 131/131 [01:14<00:00,  1.75 mini-batch/s, train_accuracy=74.6, train_loss=0.569]\n",
      "               Validation step: 100%|██████████| 33/33 [00:16<00:00,  1.95 mini-batch/s, validation_accuracy=73.4, validation_loss=0.591]\n",
      "Epoch 4/15: 100%|██████████| 131/131 [01:15<00:00,  1.73 mini-batch/s, train_accuracy=74.5, train_loss=0.57]\n",
      "               Validation step: 100%|██████████| 33/33 [00:16<00:00,  1.97 mini-batch/s, validation_accuracy=73.4, validation_loss=0.582]\n",
      "Epoch 5/15: 100%|██████████| 131/131 [01:15<00:00,  1.73 mini-batch/s, train_accuracy=74.6, train_loss=0.569]\n",
      "               Validation step: 100%|██████████| 33/33 [00:16<00:00,  2.00 mini-batch/s, validation_accuracy=73.1, validation_loss=0.583]\n",
      "Epoch 6/15: 100%|██████████| 131/131 [01:14<00:00,  1.75 mini-batch/s, train_accuracy=74.5, train_loss=0.57]\n",
      "               Validation step: 100%|██████████| 33/33 [00:16<00:00,  2.03 mini-batch/s, validation_accuracy=73.4, validation_loss=0.58]\n",
      "Epoch 7/15: 100%|██████████| 131/131 [01:15<00:00,  1.74 mini-batch/s, train_accuracy=74.6, train_loss=0.57]\n",
      "               Validation step: 100%|██████████| 33/33 [00:16<00:00,  2.01 mini-batch/s, validation_accuracy=73.1, validation_loss=0.582]\n",
      "Epoch 8/15: 100%|██████████| 131/131 [01:15<00:00,  1.74 mini-batch/s, train_accuracy=74.6, train_loss=0.568]\n",
      "               Validation step: 100%|██████████| 33/33 [00:16<00:00,  2.00 mini-batch/s, validation_accuracy=73.2, validation_loss=0.581]\n",
      "Epoch 9/15: 100%|██████████| 131/131 [01:15<00:00,  1.74 mini-batch/s, train_accuracy=74.6, train_loss=0.571]\n",
      "               Validation step: 100%|██████████| 33/33 [00:16<00:00,  2.01 mini-batch/s, validation_accuracy=73.2, validation_loss=0.581]\n",
      "Epoch 10/15: 100%|██████████| 131/131 [01:15<00:00,  1.74 mini-batch/s, train_accuracy=76.4, train_loss=0.511]\n",
      "               Validation step: 100%|██████████| 33/33 [00:16<00:00,  1.97 mini-batch/s, validation_accuracy=81.4, validation_loss=0.378]\n",
      "Epoch 11/15: 100%|██████████| 131/131 [01:15<00:00,  1.74 mini-batch/s, train_accuracy=84.5, train_loss=0.349]\n",
      "               Validation step: 100%|██████████| 33/33 [00:16<00:00,  2.02 mini-batch/s, validation_accuracy=87, validation_loss=0.297]\n",
      "Epoch 12/15: 100%|██████████| 131/131 [01:15<00:00,  1.73 mini-batch/s, train_accuracy=92.1, train_loss=0.192]\n",
      "               Validation step: 100%|██████████| 33/33 [00:16<00:00,  2.01 mini-batch/s, validation_accuracy=91.8, validation_loss=0.23]\n",
      "Epoch 13/15: 100%|██████████| 131/131 [01:14<00:00,  1.75 mini-batch/s, train_accuracy=96.4, train_loss=0.104]\n",
      "               Validation step: 100%|██████████| 33/33 [00:16<00:00,  1.98 mini-batch/s, validation_accuracy=96.6, validation_loss=0.128]\n",
      "Epoch 14/15: 100%|██████████| 131/131 [01:16<00:00,  1.72 mini-batch/s, train_accuracy=97, train_loss=0.0781]\n",
      "               Validation step: 100%|██████████| 33/33 [00:16<00:00,  1.96 mini-batch/s, validation_accuracy=95, validation_loss=0.141]\n",
      "Epoch 15/15: 100%|██████████| 131/131 [01:15<00:00,  1.74 mini-batch/s, train_accuracy=97.6, train_loss=0.0607]\n",
      "               Validation step: 100%|██████████| 33/33 [00:16<00:00,  2.02 mini-batch/s, validation_accuracy=95.7, validation_loss=0.117]\n"
     ]
    },
    {
     "data": {
      "text/html": [
       "<div>                            <div id=\"5860fe2d-9a85-4496-a004-774c769cbb68\" class=\"plotly-graph-div\" style=\"height:1500px; width:100%;\"></div>            <script type=\"text/javascript\">                require([\"plotly\"], function(Plotly) {                    window.PLOTLYENV=window.PLOTLYENV || {};                                    if (document.getElementById(\"5860fe2d-9a85-4496-a004-774c769cbb68\")) {                    Plotly.newPlot(                        \"5860fe2d-9a85-4496-a004-774c769cbb68\",                        [{\"hovertemplate\":\"Stage=Train\\u003cbr\\u003eEpochs=%{x}\\u003cbr\\u003eLoss=%{y}\\u003cextra\\u003e\\u003c\\u002fextra\\u003e\",\"legendgroup\":\"Train\",\"line\":{\"color\":\"#636efa\",\"dash\":\"solid\"},\"marker\":{\"symbol\":\"circle\"},\"mode\":\"lines\",\"name\":\"Train\",\"orientation\":\"v\",\"showlegend\":true,\"x\":[1,2,3,4,5,6,7,8,9,10,11,12,13,14,15],\"xaxis\":\"x\",\"y\":[0.5801839004946119,0.5687616901998301,0.5689774130591909,0.5702615694235299,0.5692155113202015,0.569516685627799,0.5699606753942621,0.5680816637650701,0.5711541573964912,0.5107477482493598,0.34942018030253985,0.19215816569351057,0.10399829394864772,0.07808684498846588,0.0607018108108216],\"yaxis\":\"y\",\"type\":\"scatter\"},{\"hovertemplate\":\"Stage=Validation\\u003cbr\\u003eEpochs=%{x}\\u003cbr\\u003eLoss=%{y}\\u003cextra\\u003e\\u003c\\u002fextra\\u003e\",\"legendgroup\":\"Validation\",\"line\":{\"color\":\"#EF553B\",\"dash\":\"solid\"},\"marker\":{\"symbol\":\"circle\"},\"mode\":\"lines\",\"name\":\"Validation\",\"orientation\":\"v\",\"showlegend\":true,\"x\":[1,2,3,4,5,6,7,8,9,10,11,12,13,14,15],\"xaxis\":\"x\",\"y\":[0.5824687300306378,0.5818388344663562,0.5912037329240278,0.5817048405155991,0.5826156916040363,0.5800841224916053,0.5823055099357258,0.5810519050468098,0.5811246832211813,0.3783447277365309,0.2974315502426841,0.22981037402694876,0.12832958850953163,0.14078757127351832,0.11672080432375272],\"yaxis\":\"y\",\"type\":\"scatter\"},{\"hovertemplate\":\"Stage=Train\\u003cbr\\u003eEpochs=%{x}\\u003cbr\\u003eAccuracy=%{y}\\u003cextra\\u003e\\u003c\\u002fextra\\u003e\",\"legendgroup\":\"Train\",\"line\":{\"color\":\"#636efa\",\"dash\":\"solid\"},\"marker\":{\"symbol\":\"circle\"},\"mode\":\"lines\",\"name\":\"Train\",\"orientation\":\"v\",\"showlegend\":true,\"x\":[1,2,3,4,5,6,7,8,9,10,11,12,13,14,15],\"xaxis\":\"x2\",\"y\":[0.7454458293384468,0.7454458293384468,0.7454458293384468,0.7454458293384468,0.7454458293384468,0.7454458293384468,0.7454458293384468,0.7454458293384468,0.7454458293384468,0.763902205177373,0.8451581975071908,0.9211409395973155,0.9635666347075743,0.9702780441035475,0.9765100671140939],\"yaxis\":\"y2\",\"type\":\"scatter\"},{\"hovertemplate\":\"Stage=Validation\\u003cbr\\u003eEpochs=%{x}\\u003cbr\\u003eAccuracy=%{y}\\u003cextra\\u003e\\u003c\\u002fextra\\u003e\",\"legendgroup\":\"Validation\",\"line\":{\"color\":\"#EF553B\",\"dash\":\"solid\"},\"marker\":{\"symbol\":\"circle\"},\"mode\":\"lines\",\"name\":\"Validation\",\"orientation\":\"v\",\"showlegend\":true,\"x\":[1,2,3,4,5,6,7,8,9,10,11,12,13,14,15],\"xaxis\":\"x2\",\"y\":[0.7327586206896551,0.7327586206896551,0.7327586206896551,0.7327586206896551,0.7327586206896551,0.7327586206896551,0.7327586206896551,0.7327586206896551,0.7327586206896551,0.8132183908045977,0.8706896551724138,0.9185823754789272,0.9664750957854407,0.9492337164750958,0.9568965517241379],\"yaxis\":\"y2\",\"type\":\"scatter\"},{\"hovertemplate\":\"Stage=Train\\u003cbr\\u003eEpochs=%{x}\\u003cbr\\u003eBalanced Accuracy=%{y}\\u003cextra\\u003e\\u003c\\u002fextra\\u003e\",\"legendgroup\":\"Train\",\"line\":{\"color\":\"#636efa\",\"dash\":\"solid\"},\"marker\":{\"symbol\":\"circle\"},\"mode\":\"lines\",\"name\":\"Train\",\"orientation\":\"v\",\"showlegend\":true,\"x\":[1,2,3,4,5,6,7,8,9,10,11,12,13,14,15],\"xaxis\":\"x3\",\"y\":[0.5,0.5,0.5,0.5,0.5,0.5,0.5,0.5,0.5,0.5644658201173542,0.7420525490338559,0.8897490629219879,0.9507596538715402,0.9614620233618544,0.9699826209118269],\"yaxis\":\"y3\",\"type\":\"scatter\"},{\"hovertemplate\":\"Stage=Validation\\u003cbr\\u003eEpochs=%{x}\\u003cbr\\u003eBalanced Accuracy=%{y}\\u003cextra\\u003e\\u003c\\u002fextra\\u003e\",\"legendgroup\":\"Validation\",\"line\":{\"color\":\"#EF553B\",\"dash\":\"solid\"},\"marker\":{\"symbol\":\"circle\"},\"mode\":\"lines\",\"name\":\"Validation\",\"orientation\":\"v\",\"showlegend\":true,\"x\":[1,2,3,4,5,6,7,8,9,10,11,12,13,14,15],\"xaxis\":\"x3\",\"y\":[0.5,0.5,0.5,0.5,0.5,0.5,0.5,0.5,0.5,0.6812776723592663,0.7990512333965845,0.8579169302129455,0.9532152646004638,0.9107105207674469,0.9307400379506642],\"yaxis\":\"y3\",\"type\":\"scatter\"},{\"hovertemplate\":\"Stage=Train\\u003cbr\\u003eEpochs=%{x}\\u003cbr\\u003eF1-score=%{y}\\u003cextra\\u003e\\u003c\\u002fextra\\u003e\",\"legendgroup\":\"Train\",\"line\":{\"color\":\"#636efa\",\"dash\":\"solid\"},\"marker\":{\"symbol\":\"circle\"},\"mode\":\"lines\",\"name\":\"Train\",\"orientation\":\"v\",\"showlegend\":true,\"x\":[1,2,3,4,5,6,7,8,9,10,11,12,13,14,15],\"xaxis\":\"x4\",\"y\":[0.7454458293384467,0.7454458293384467,0.7454458293384467,0.7454458293384467,0.7454458293384467,0.7454458293384467,0.7454458293384467,0.7454458293384467,0.7454458293384467,0.763902205177373,0.8451581975071908,0.9211409395973155,0.9635666347075743,0.9702780441035475,0.9765100671140939],\"yaxis\":\"y4\",\"type\":\"scatter\"},{\"hovertemplate\":\"Stage=Validation\\u003cbr\\u003eEpochs=%{x}\\u003cbr\\u003eF1-score=%{y}\\u003cextra\\u003e\\u003c\\u002fextra\\u003e\",\"legendgroup\":\"Validation\",\"line\":{\"color\":\"#EF553B\",\"dash\":\"solid\"},\"marker\":{\"symbol\":\"circle\"},\"mode\":\"lines\",\"name\":\"Validation\",\"orientation\":\"v\",\"showlegend\":true,\"x\":[1,2,3,4,5,6,7,8,9,10,11,12,13,14,15],\"xaxis\":\"x4\",\"y\":[0.732758620689655,0.732758620689655,0.732758620689655,0.732758620689655,0.732758620689655,0.732758620689655,0.732758620689655,0.732758620689655,0.732758620689655,0.8132183908045977,0.8706896551724138,0.9185823754789272,0.9664750957854407,0.9492337164750958,0.9568965517241379],\"yaxis\":\"y4\",\"type\":\"scatter\"},{\"hovertemplate\":\"Stage=Train\\u003cbr\\u003eEpochs=%{x}\\u003cbr\\u003eKappa=%{y}\\u003cextra\\u003e\\u003c\\u002fextra\\u003e\",\"legendgroup\":\"Train\",\"line\":{\"color\":\"#636efa\",\"dash\":\"solid\"},\"marker\":{\"symbol\":\"circle\"},\"mode\":\"lines\",\"name\":\"Train\",\"orientation\":\"v\",\"showlegend\":true,\"x\":[1,2,3,4,5,6,7,8,9,10,11,12,13,14,15],\"xaxis\":\"x5\",\"y\":[0.0,0.0,0.0,0.0,0.0,0.0,0.0,0.0,0.0,0.17167093722838667,0.542653780730013,0.7895343402734759,0.9037609101847006,0.9217808979726125,0.9382199383251072],\"yaxis\":\"y5\",\"type\":\"scatter\"},{\"hovertemplate\":\"Stage=Validation\\u003cbr\\u003eEpochs=%{x}\\u003cbr\\u003eKappa=%{y}\\u003cextra\\u003e\\u003c\\u002fextra\\u003e\",\"legendgroup\":\"Validation\",\"line\":{\"color\":\"#EF553B\",\"dash\":\"solid\"},\"marker\":{\"symbol\":\"circle\"},\"mode\":\"lines\",\"name\":\"Validation\",\"orientation\":\"v\",\"showlegend\":true,\"x\":[1,2,3,4,5,6,7,8,9,10,11,12,13,14,15],\"xaxis\":\"x5\",\"y\":[0.0,0.0,0.0,0.0,0.0,0.0,0.0,0.0,0.0,0.4318866787221217,0.6443172526573999,0.7749475029672236,0.9137124883108051,0.8637048860512548,0.88671875],\"yaxis\":\"y5\",\"type\":\"scatter\"}],                        {\"template\":{\"data\":{\"histogram2dcontour\":[{\"type\":\"histogram2dcontour\",\"colorbar\":{\"outlinewidth\":0,\"ticks\":\"\"},\"colorscale\":[[0.0,\"#0d0887\"],[0.1111111111111111,\"#46039f\"],[0.2222222222222222,\"#7201a8\"],[0.3333333333333333,\"#9c179e\"],[0.4444444444444444,\"#bd3786\"],[0.5555555555555556,\"#d8576b\"],[0.6666666666666666,\"#ed7953\"],[0.7777777777777778,\"#fb9f3a\"],[0.8888888888888888,\"#fdca26\"],[1.0,\"#f0f921\"]]}],\"choropleth\":[{\"type\":\"choropleth\",\"colorbar\":{\"outlinewidth\":0,\"ticks\":\"\"}}],\"histogram2d\":[{\"type\":\"histogram2d\",\"colorbar\":{\"outlinewidth\":0,\"ticks\":\"\"},\"colorscale\":[[0.0,\"#0d0887\"],[0.1111111111111111,\"#46039f\"],[0.2222222222222222,\"#7201a8\"],[0.3333333333333333,\"#9c179e\"],[0.4444444444444444,\"#bd3786\"],[0.5555555555555556,\"#d8576b\"],[0.6666666666666666,\"#ed7953\"],[0.7777777777777778,\"#fb9f3a\"],[0.8888888888888888,\"#fdca26\"],[1.0,\"#f0f921\"]]}],\"heatmap\":[{\"type\":\"heatmap\",\"colorbar\":{\"outlinewidth\":0,\"ticks\":\"\"},\"colorscale\":[[0.0,\"#0d0887\"],[0.1111111111111111,\"#46039f\"],[0.2222222222222222,\"#7201a8\"],[0.3333333333333333,\"#9c179e\"],[0.4444444444444444,\"#bd3786\"],[0.5555555555555556,\"#d8576b\"],[0.6666666666666666,\"#ed7953\"],[0.7777777777777778,\"#fb9f3a\"],[0.8888888888888888,\"#fdca26\"],[1.0,\"#f0f921\"]]}],\"heatmapgl\":[{\"type\":\"heatmapgl\",\"colorbar\":{\"outlinewidth\":0,\"ticks\":\"\"},\"colorscale\":[[0.0,\"#0d0887\"],[0.1111111111111111,\"#46039f\"],[0.2222222222222222,\"#7201a8\"],[0.3333333333333333,\"#9c179e\"],[0.4444444444444444,\"#bd3786\"],[0.5555555555555556,\"#d8576b\"],[0.6666666666666666,\"#ed7953\"],[0.7777777777777778,\"#fb9f3a\"],[0.8888888888888888,\"#fdca26\"],[1.0,\"#f0f921\"]]}],\"contourcarpet\":[{\"type\":\"contourcarpet\",\"colorbar\":{\"outlinewidth\":0,\"ticks\":\"\"}}],\"contour\":[{\"type\":\"contour\",\"colorbar\":{\"outlinewidth\":0,\"ticks\":\"\"},\"colorscale\":[[0.0,\"#0d0887\"],[0.1111111111111111,\"#46039f\"],[0.2222222222222222,\"#7201a8\"],[0.3333333333333333,\"#9c179e\"],[0.4444444444444444,\"#bd3786\"],[0.5555555555555556,\"#d8576b\"],[0.6666666666666666,\"#ed7953\"],[0.7777777777777778,\"#fb9f3a\"],[0.8888888888888888,\"#fdca26\"],[1.0,\"#f0f921\"]]}],\"surface\":[{\"type\":\"surface\",\"colorbar\":{\"outlinewidth\":0,\"ticks\":\"\"},\"colorscale\":[[0.0,\"#0d0887\"],[0.1111111111111111,\"#46039f\"],[0.2222222222222222,\"#7201a8\"],[0.3333333333333333,\"#9c179e\"],[0.4444444444444444,\"#bd3786\"],[0.5555555555555556,\"#d8576b\"],[0.6666666666666666,\"#ed7953\"],[0.7777777777777778,\"#fb9f3a\"],[0.8888888888888888,\"#fdca26\"],[1.0,\"#f0f921\"]]}],\"mesh3d\":[{\"type\":\"mesh3d\",\"colorbar\":{\"outlinewidth\":0,\"ticks\":\"\"}}],\"scatter\":[{\"fillpattern\":{\"fillmode\":\"overlay\",\"size\":10,\"solidity\":0.2},\"type\":\"scatter\"}],\"parcoords\":[{\"type\":\"parcoords\",\"line\":{\"colorbar\":{\"outlinewidth\":0,\"ticks\":\"\"}}}],\"scatterpolargl\":[{\"type\":\"scatterpolargl\",\"marker\":{\"colorbar\":{\"outlinewidth\":0,\"ticks\":\"\"}}}],\"bar\":[{\"error_x\":{\"color\":\"#2a3f5f\"},\"error_y\":{\"color\":\"#2a3f5f\"},\"marker\":{\"line\":{\"color\":\"#E5ECF6\",\"width\":0.5},\"pattern\":{\"fillmode\":\"overlay\",\"size\":10,\"solidity\":0.2}},\"type\":\"bar\"}],\"scattergeo\":[{\"type\":\"scattergeo\",\"marker\":{\"colorbar\":{\"outlinewidth\":0,\"ticks\":\"\"}}}],\"scatterpolar\":[{\"type\":\"scatterpolar\",\"marker\":{\"colorbar\":{\"outlinewidth\":0,\"ticks\":\"\"}}}],\"histogram\":[{\"marker\":{\"pattern\":{\"fillmode\":\"overlay\",\"size\":10,\"solidity\":0.2}},\"type\":\"histogram\"}],\"scattergl\":[{\"type\":\"scattergl\",\"marker\":{\"colorbar\":{\"outlinewidth\":0,\"ticks\":\"\"}}}],\"scatter3d\":[{\"type\":\"scatter3d\",\"line\":{\"colorbar\":{\"outlinewidth\":0,\"ticks\":\"\"}},\"marker\":{\"colorbar\":{\"outlinewidth\":0,\"ticks\":\"\"}}}],\"scattermapbox\":[{\"type\":\"scattermapbox\",\"marker\":{\"colorbar\":{\"outlinewidth\":0,\"ticks\":\"\"}}}],\"scatterternary\":[{\"type\":\"scatterternary\",\"marker\":{\"colorbar\":{\"outlinewidth\":0,\"ticks\":\"\"}}}],\"scattercarpet\":[{\"type\":\"scattercarpet\",\"marker\":{\"colorbar\":{\"outlinewidth\":0,\"ticks\":\"\"}}}],\"carpet\":[{\"aaxis\":{\"endlinecolor\":\"#2a3f5f\",\"gridcolor\":\"white\",\"linecolor\":\"white\",\"minorgridcolor\":\"white\",\"startlinecolor\":\"#2a3f5f\"},\"baxis\":{\"endlinecolor\":\"#2a3f5f\",\"gridcolor\":\"white\",\"linecolor\":\"white\",\"minorgridcolor\":\"white\",\"startlinecolor\":\"#2a3f5f\"},\"type\":\"carpet\"}],\"table\":[{\"cells\":{\"fill\":{\"color\":\"#EBF0F8\"},\"line\":{\"color\":\"white\"}},\"header\":{\"fill\":{\"color\":\"#C8D4E3\"},\"line\":{\"color\":\"white\"}},\"type\":\"table\"}],\"barpolar\":[{\"marker\":{\"line\":{\"color\":\"#E5ECF6\",\"width\":0.5},\"pattern\":{\"fillmode\":\"overlay\",\"size\":10,\"solidity\":0.2}},\"type\":\"barpolar\"}],\"pie\":[{\"automargin\":true,\"type\":\"pie\"}]},\"layout\":{\"autotypenumbers\":\"strict\",\"colorway\":[\"#636efa\",\"#EF553B\",\"#00cc96\",\"#ab63fa\",\"#FFA15A\",\"#19d3f3\",\"#FF6692\",\"#B6E880\",\"#FF97FF\",\"#FECB52\"],\"font\":{\"color\":\"#2a3f5f\"},\"hovermode\":\"closest\",\"hoverlabel\":{\"align\":\"left\"},\"paper_bgcolor\":\"white\",\"plot_bgcolor\":\"#E5ECF6\",\"polar\":{\"bgcolor\":\"#E5ECF6\",\"angularaxis\":{\"gridcolor\":\"white\",\"linecolor\":\"white\",\"ticks\":\"\"},\"radialaxis\":{\"gridcolor\":\"white\",\"linecolor\":\"white\",\"ticks\":\"\"}},\"ternary\":{\"bgcolor\":\"#E5ECF6\",\"aaxis\":{\"gridcolor\":\"white\",\"linecolor\":\"white\",\"ticks\":\"\"},\"baxis\":{\"gridcolor\":\"white\",\"linecolor\":\"white\",\"ticks\":\"\"},\"caxis\":{\"gridcolor\":\"white\",\"linecolor\":\"white\",\"ticks\":\"\"}},\"coloraxis\":{\"colorbar\":{\"outlinewidth\":0,\"ticks\":\"\"}},\"colorscale\":{\"sequential\":[[0.0,\"#0d0887\"],[0.1111111111111111,\"#46039f\"],[0.2222222222222222,\"#7201a8\"],[0.3333333333333333,\"#9c179e\"],[0.4444444444444444,\"#bd3786\"],[0.5555555555555556,\"#d8576b\"],[0.6666666666666666,\"#ed7953\"],[0.7777777777777778,\"#fb9f3a\"],[0.8888888888888888,\"#fdca26\"],[1.0,\"#f0f921\"]],\"sequentialminus\":[[0.0,\"#0d0887\"],[0.1111111111111111,\"#46039f\"],[0.2222222222222222,\"#7201a8\"],[0.3333333333333333,\"#9c179e\"],[0.4444444444444444,\"#bd3786\"],[0.5555555555555556,\"#d8576b\"],[0.6666666666666666,\"#ed7953\"],[0.7777777777777778,\"#fb9f3a\"],[0.8888888888888888,\"#fdca26\"],[1.0,\"#f0f921\"]],\"diverging\":[[0,\"#8e0152\"],[0.1,\"#c51b7d\"],[0.2,\"#de77ae\"],[0.3,\"#f1b6da\"],[0.4,\"#fde0ef\"],[0.5,\"#f7f7f7\"],[0.6,\"#e6f5d0\"],[0.7,\"#b8e186\"],[0.8,\"#7fbc41\"],[0.9,\"#4d9221\"],[1,\"#276419\"]]},\"xaxis\":{\"gridcolor\":\"white\",\"linecolor\":\"white\",\"ticks\":\"\",\"title\":{\"standoff\":15},\"zerolinecolor\":\"white\",\"automargin\":true,\"zerolinewidth\":2},\"yaxis\":{\"gridcolor\":\"white\",\"linecolor\":\"white\",\"ticks\":\"\",\"title\":{\"standoff\":15},\"zerolinecolor\":\"white\",\"automargin\":true,\"zerolinewidth\":2},\"scene\":{\"xaxis\":{\"backgroundcolor\":\"#E5ECF6\",\"gridcolor\":\"white\",\"linecolor\":\"white\",\"showbackground\":true,\"ticks\":\"\",\"zerolinecolor\":\"white\",\"gridwidth\":2},\"yaxis\":{\"backgroundcolor\":\"#E5ECF6\",\"gridcolor\":\"white\",\"linecolor\":\"white\",\"showbackground\":true,\"ticks\":\"\",\"zerolinecolor\":\"white\",\"gridwidth\":2},\"zaxis\":{\"backgroundcolor\":\"#E5ECF6\",\"gridcolor\":\"white\",\"linecolor\":\"white\",\"showbackground\":true,\"ticks\":\"\",\"zerolinecolor\":\"white\",\"gridwidth\":2}},\"shapedefaults\":{\"line\":{\"color\":\"#2a3f5f\"}},\"annotationdefaults\":{\"arrowcolor\":\"#2a3f5f\",\"arrowhead\":0,\"arrowwidth\":1},\"geo\":{\"bgcolor\":\"white\",\"landcolor\":\"#E5ECF6\",\"subunitcolor\":\"white\",\"showland\":true,\"showlakes\":true,\"lakecolor\":\"white\"},\"title\":{\"x\":0.05},\"mapbox\":{\"style\":\"light\"}}},\"xaxis\":{\"anchor\":\"y\",\"domain\":[0.0,1.0]},\"yaxis\":{\"anchor\":\"x\",\"domain\":[0.88,1.0]},\"xaxis2\":{\"anchor\":\"y2\",\"domain\":[0.0,1.0]},\"yaxis2\":{\"anchor\":\"x2\",\"domain\":[0.66,0.78]},\"xaxis3\":{\"anchor\":\"y3\",\"domain\":[0.0,1.0]},\"yaxis3\":{\"anchor\":\"x3\",\"domain\":[0.44,0.56]},\"xaxis4\":{\"anchor\":\"y4\",\"domain\":[0.0,1.0]},\"yaxis4\":{\"anchor\":\"x4\",\"domain\":[0.22,0.33999999999999997]},\"xaxis5\":{\"anchor\":\"y5\",\"domain\":[0.0,1.0]},\"yaxis5\":{\"anchor\":\"x5\",\"domain\":[0.0,0.12]},\"annotations\":[{\"font\":{\"size\":16},\"showarrow\":false,\"text\":\"Loss\",\"x\":0.5,\"xanchor\":\"center\",\"xref\":\"paper\",\"y\":1.0,\"yanchor\":\"bottom\",\"yref\":\"paper\"},{\"font\":{\"size\":16},\"showarrow\":false,\"text\":\"Accuracy\",\"x\":0.5,\"xanchor\":\"center\",\"xref\":\"paper\",\"y\":0.78,\"yanchor\":\"bottom\",\"yref\":\"paper\"},{\"font\":{\"size\":16},\"showarrow\":false,\"text\":\"Balanced Accuracy\",\"x\":0.5,\"xanchor\":\"center\",\"xref\":\"paper\",\"y\":0.56,\"yanchor\":\"bottom\",\"yref\":\"paper\"},{\"font\":{\"size\":16},\"showarrow\":false,\"text\":\"F1-score\",\"x\":0.5,\"xanchor\":\"center\",\"xref\":\"paper\",\"y\":0.33999999999999997,\"yanchor\":\"bottom\",\"yref\":\"paper\"},{\"font\":{\"size\":16},\"showarrow\":false,\"text\":\"Kappa\",\"x\":0.5,\"xanchor\":\"center\",\"xref\":\"paper\",\"y\":0.12,\"yanchor\":\"bottom\",\"yref\":\"paper\"}],\"title\":{\"text\":\"Training and Validation Scores\"},\"height\":1500},                        {\"responsive\": true}                    ).then(function(){\n",
       "                            \n",
       "var gd = document.getElementById('5860fe2d-9a85-4496-a004-774c769cbb68');\n",
       "var x = new MutationObserver(function (mutations, observer) {{\n",
       "        var display = window.getComputedStyle(gd).display;\n",
       "        if (!display || display === 'none') {{\n",
       "            console.log([gd, 'removed!']);\n",
       "            Plotly.purge(gd);\n",
       "            observer.disconnect();\n",
       "        }}\n",
       "}});\n",
       "\n",
       "// Listen for the removal of the full notebook cells\n",
       "var notebookContainer = gd.closest('#notebook-container');\n",
       "if (notebookContainer) {{\n",
       "    x.observe(notebookContainer, {childList: true});\n",
       "}}\n",
       "\n",
       "// Listen for the clearing of the current output cell\n",
       "var outputEl = gd.closest('.output');\n",
       "if (outputEl) {{\n",
       "    x.observe(outputEl, {childList: true});\n",
       "}}\n",
       "\n",
       "                        })                };                });            </script>        </div>"
      ]
     },
     "metadata": {},
     "output_type": "display_data"
    },
    {
     "name": "stdout",
     "output_type": "stream",
     "text": [
      "\n",
      "\n"
     ]
    },
    {
     "name": "stderr",
     "output_type": "stream",
     "text": [
      "Testing the training model: 100%|██████████| 20/20 [00:09<00:00,  2.00 mini-batch/s, testing_accuracy=72.5, testing_loss=1.31]"
     ]
    },
    {
     "name": "stdout",
     "output_type": "stream",
     "text": [
      "Accuracy: 0.717948717948718\n",
      "Balanced Accuracy: 0.6247863247863248\n",
      "F1-score: 0.717948717948718\n",
      "Kappa: 0.2931726907630522\n",
      "[[ 59 175]\n",
      " [  1 389]]\n",
      "              precision    recall  f1-score   support\n",
      "\n",
      "      NORMAL       0.98      0.25      0.40       234\n",
      "   PNEUMONIA       0.69      1.00      0.82       390\n",
      "\n",
      "    accuracy                           0.72       624\n",
      "   macro avg       0.84      0.62      0.61       624\n",
      "weighted avg       0.80      0.72      0.66       624\n",
      "\n"
     ]
    },
    {
     "name": "stderr",
     "output_type": "stream",
     "text": [
      "\n"
     ]
    },
    {
     "data": {
      "text/html": [
       "<div>\n",
       "<style scoped>\n",
       "    .dataframe tbody tr th:only-of-type {\n",
       "        vertical-align: middle;\n",
       "    }\n",
       "\n",
       "    .dataframe tbody tr th {\n",
       "        vertical-align: top;\n",
       "    }\n",
       "\n",
       "    .dataframe thead th {\n",
       "        text-align: right;\n",
       "    }\n",
       "</style>\n",
       "<table border=\"1\" class=\"dataframe\">\n",
       "  <thead>\n",
       "    <tr style=\"text-align: right;\">\n",
       "      <th></th>\n",
       "      <th>Loss</th>\n",
       "      <th>Accuracy</th>\n",
       "      <th>Balanced Accuracy</th>\n",
       "      <th>F1-score</th>\n",
       "      <th>Kappa</th>\n",
       "    </tr>\n",
       "  </thead>\n",
       "  <tbody>\n",
       "    <tr>\n",
       "      <th>0</th>\n",
       "      <td>1.310066</td>\n",
       "      <td>0.717949</td>\n",
       "      <td>0.624786</td>\n",
       "      <td>0.717949</td>\n",
       "      <td>0.293173</td>\n",
       "    </tr>\n",
       "  </tbody>\n",
       "</table>\n",
       "</div>"
      ],
      "text/plain": [
       "       Loss  Accuracy  Balanced Accuracy  F1-score     Kappa\n",
       "0  1.310066  0.717949           0.624786  0.717949  0.293173"
      ]
     },
     "execution_count": 28,
     "metadata": {},
     "output_type": "execute_result"
    }
   ],
   "source": [
    "# Train the neural network\n",
    "model = train_model(epoch_number_cnn, train_loader_cnn, val_loader_cnn, model, optimizer, loss_function, device,\n",
    "                    results_path, my_folder_name)\n",
    "# Test the neural network\n",
    "test_model(test_loader_cnn, model, loss_function, device, classes)\n"
   ]
  },
  {
   "cell_type": "markdown",
   "id": "244f3a14",
   "metadata": {
    "papermill": {
     "duration": 0.442113,
     "end_time": "2024-11-20T19:09:28.997045",
     "exception": false,
     "start_time": "2024-11-20T19:09:28.554932",
     "status": "completed"
    },
    "tags": []
   },
   "source": []
  },
  {
   "cell_type": "code",
   "execution_count": 29,
   "id": "9fb1d2fa",
   "metadata": {
    "execution": {
     "iopub.execute_input": "2024-11-20T19:09:29.793894Z",
     "iopub.status.busy": "2024-11-20T19:09:29.793548Z",
     "iopub.status.idle": "2024-11-20T19:09:29.812335Z",
     "shell.execute_reply": "2024-11-20T19:09:29.811472Z"
    },
    "papermill": {
     "duration": 0.421209,
     "end_time": "2024-11-20T19:09:29.814109",
     "exception": false,
     "start_time": "2024-11-20T19:09:29.392900",
     "status": "completed"
    },
    "tags": []
   },
   "outputs": [
    {
     "name": "stdout",
     "output_type": "stream",
     "text": [
      "\n",
      "The program are saving the trained model. Please wait ...\n",
      "\n",
      "Model saved\n"
     ]
    }
   ],
   "source": [
    "print(\"\\nThe program are saving the trained model. Please wait ...\")\n",
    "torch.save(model.state_dict(), os.path.join(results_path, my_folder_name, \"my_CNN.pth\"))\n",
    "print(\"\\nModel saved\")"
   ]
  }
 ],
 "metadata": {
  "kaggle": {
   "accelerator": "nvidiaTeslaT4",
   "dataSources": [
    {
     "datasetId": 17810,
     "sourceId": 23812,
     "sourceType": "datasetVersion"
    }
   ],
   "dockerImageVersionId": 30787,
   "isGpuEnabled": true,
   "isInternetEnabled": true,
   "language": "python",
   "sourceType": "notebook"
  },
  "kernelspec": {
   "display_name": "Python 3",
   "language": "python",
   "name": "python3"
  },
  "language_info": {
   "codemirror_mode": {
    "name": "ipython",
    "version": 3
   },
   "file_extension": ".py",
   "mimetype": "text/x-python",
   "name": "python",
   "nbconvert_exporter": "python",
   "pygments_lexer": "ipython3",
   "version": "3.10.14"
  },
  "papermill": {
   "default_parameters": {},
   "duration": 1925.688399,
   "end_time": "2024-11-20T19:09:32.953817",
   "environment_variables": {},
   "exception": null,
   "input_path": "__notebook__.ipynb",
   "output_path": "__notebook__.ipynb",
   "parameters": {},
   "start_time": "2024-11-20T18:37:27.265418",
   "version": "2.6.0"
  }
 },
 "nbformat": 4,
 "nbformat_minor": 5
}
